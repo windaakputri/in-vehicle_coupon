{
  "cells": [
    {
      "cell_type": "markdown",
      "id": "9086c5eb",
      "metadata": {
        "id": "9086c5eb"
      },
      "source": [
        "## Import Library"
      ]
    },
    {
      "cell_type": "code",
      "execution_count": 32,
      "id": "281150bc",
      "metadata": {
        "id": "281150bc"
      },
      "outputs": [],
      "source": [
        "import warnings\n",
        "warnings.filterwarnings('ignore')\n",
        "\n",
        "import numpy as np\n",
        "import pandas as pd\n",
        "import seaborn as sns\n",
        "import matplotlib.pyplot as plt\n",
        "%matplotlib inline\n",
        "\n",
        "from imblearn.over_sampling import SMOTE \n",
        "\n",
        "from sklearn import preprocessing\n",
        "from sklearn.impute import SimpleImputer\n",
        "from sklearn.ensemble import RandomForestClassifier\n",
        "from sklearn.model_selection import train_test_split\n",
        "from sklearn.metrics import accuracy_score, recall_score, confusion_matrix, f1_score, roc_auc_score\n",
        "\n",
        "from imblearn import under_sampling, over_sampling"
      ]
    },
    {
      "cell_type": "markdown",
      "id": "27c018ba",
      "metadata": {
        "id": "27c018ba"
      },
      "source": [
        "## Load Dataset"
      ]
    },
    {
      "cell_type": "code",
      "execution_count": 33,
      "id": "f28e1136",
      "metadata": {
        "id": "f28e1136",
        "outputId": "dfb8a2c4-ed52-4b4f-9520-1080c8562287",
        "colab": {
          "base_uri": "https://localhost:8080/",
          "height": 386
        }
      },
      "outputs": [
        {
          "output_type": "execute_result",
          "data": {
            "text/plain": [
              "       destination  passanger weather  temperature  time  \\\n",
              "0  No Urgent Place      Alone   Sunny           55   2PM   \n",
              "1  No Urgent Place  Friend(s)   Sunny           80  10AM   \n",
              "2  No Urgent Place  Friend(s)   Sunny           80  10AM   \n",
              "3  No Urgent Place  Friend(s)   Sunny           80   2PM   \n",
              "4  No Urgent Place  Friend(s)   Sunny           80   2PM   \n",
              "\n",
              "                  coupon expiration  gender age      maritalStatus  ...  \\\n",
              "0        Restaurant(<20)         1d  Female  21  Unmarried partner  ...   \n",
              "1           Coffee House         2h  Female  21  Unmarried partner  ...   \n",
              "2  Carry out & Take away         2h  Female  21  Unmarried partner  ...   \n",
              "3           Coffee House         2h  Female  21  Unmarried partner  ...   \n",
              "4           Coffee House         1d  Female  21  Unmarried partner  ...   \n",
              "\n",
              "   CoffeeHouse CarryAway RestaurantLessThan20 Restaurant20To50  \\\n",
              "0        never       NaN                  4~8              1~3   \n",
              "1        never       NaN                  4~8              1~3   \n",
              "2        never       NaN                  4~8              1~3   \n",
              "3        never       NaN                  4~8              1~3   \n",
              "4        never       NaN                  4~8              1~3   \n",
              "\n",
              "  toCoupon_GEQ5min toCoupon_GEQ15min toCoupon_GEQ25min direction_same  \\\n",
              "0                1                 0                 0              0   \n",
              "1                1                 0                 0              0   \n",
              "2                1                 1                 0              0   \n",
              "3                1                 1                 0              0   \n",
              "4                1                 1                 0              0   \n",
              "\n",
              "  direction_opp  Y  \n",
              "0             1  1  \n",
              "1             1  0  \n",
              "2             1  1  \n",
              "3             1  0  \n",
              "4             1  0  \n",
              "\n",
              "[5 rows x 26 columns]"
            ],
            "text/html": [
              "\n",
              "  <div id=\"df-6ee97ea0-2328-4e78-8322-b590b4336dca\">\n",
              "    <div class=\"colab-df-container\">\n",
              "      <div>\n",
              "<style scoped>\n",
              "    .dataframe tbody tr th:only-of-type {\n",
              "        vertical-align: middle;\n",
              "    }\n",
              "\n",
              "    .dataframe tbody tr th {\n",
              "        vertical-align: top;\n",
              "    }\n",
              "\n",
              "    .dataframe thead th {\n",
              "        text-align: right;\n",
              "    }\n",
              "</style>\n",
              "<table border=\"1\" class=\"dataframe\">\n",
              "  <thead>\n",
              "    <tr style=\"text-align: right;\">\n",
              "      <th></th>\n",
              "      <th>destination</th>\n",
              "      <th>passanger</th>\n",
              "      <th>weather</th>\n",
              "      <th>temperature</th>\n",
              "      <th>time</th>\n",
              "      <th>coupon</th>\n",
              "      <th>expiration</th>\n",
              "      <th>gender</th>\n",
              "      <th>age</th>\n",
              "      <th>maritalStatus</th>\n",
              "      <th>...</th>\n",
              "      <th>CoffeeHouse</th>\n",
              "      <th>CarryAway</th>\n",
              "      <th>RestaurantLessThan20</th>\n",
              "      <th>Restaurant20To50</th>\n",
              "      <th>toCoupon_GEQ5min</th>\n",
              "      <th>toCoupon_GEQ15min</th>\n",
              "      <th>toCoupon_GEQ25min</th>\n",
              "      <th>direction_same</th>\n",
              "      <th>direction_opp</th>\n",
              "      <th>Y</th>\n",
              "    </tr>\n",
              "  </thead>\n",
              "  <tbody>\n",
              "    <tr>\n",
              "      <th>0</th>\n",
              "      <td>No Urgent Place</td>\n",
              "      <td>Alone</td>\n",
              "      <td>Sunny</td>\n",
              "      <td>55</td>\n",
              "      <td>2PM</td>\n",
              "      <td>Restaurant(&lt;20)</td>\n",
              "      <td>1d</td>\n",
              "      <td>Female</td>\n",
              "      <td>21</td>\n",
              "      <td>Unmarried partner</td>\n",
              "      <td>...</td>\n",
              "      <td>never</td>\n",
              "      <td>NaN</td>\n",
              "      <td>4~8</td>\n",
              "      <td>1~3</td>\n",
              "      <td>1</td>\n",
              "      <td>0</td>\n",
              "      <td>0</td>\n",
              "      <td>0</td>\n",
              "      <td>1</td>\n",
              "      <td>1</td>\n",
              "    </tr>\n",
              "    <tr>\n",
              "      <th>1</th>\n",
              "      <td>No Urgent Place</td>\n",
              "      <td>Friend(s)</td>\n",
              "      <td>Sunny</td>\n",
              "      <td>80</td>\n",
              "      <td>10AM</td>\n",
              "      <td>Coffee House</td>\n",
              "      <td>2h</td>\n",
              "      <td>Female</td>\n",
              "      <td>21</td>\n",
              "      <td>Unmarried partner</td>\n",
              "      <td>...</td>\n",
              "      <td>never</td>\n",
              "      <td>NaN</td>\n",
              "      <td>4~8</td>\n",
              "      <td>1~3</td>\n",
              "      <td>1</td>\n",
              "      <td>0</td>\n",
              "      <td>0</td>\n",
              "      <td>0</td>\n",
              "      <td>1</td>\n",
              "      <td>0</td>\n",
              "    </tr>\n",
              "    <tr>\n",
              "      <th>2</th>\n",
              "      <td>No Urgent Place</td>\n",
              "      <td>Friend(s)</td>\n",
              "      <td>Sunny</td>\n",
              "      <td>80</td>\n",
              "      <td>10AM</td>\n",
              "      <td>Carry out &amp; Take away</td>\n",
              "      <td>2h</td>\n",
              "      <td>Female</td>\n",
              "      <td>21</td>\n",
              "      <td>Unmarried partner</td>\n",
              "      <td>...</td>\n",
              "      <td>never</td>\n",
              "      <td>NaN</td>\n",
              "      <td>4~8</td>\n",
              "      <td>1~3</td>\n",
              "      <td>1</td>\n",
              "      <td>1</td>\n",
              "      <td>0</td>\n",
              "      <td>0</td>\n",
              "      <td>1</td>\n",
              "      <td>1</td>\n",
              "    </tr>\n",
              "    <tr>\n",
              "      <th>3</th>\n",
              "      <td>No Urgent Place</td>\n",
              "      <td>Friend(s)</td>\n",
              "      <td>Sunny</td>\n",
              "      <td>80</td>\n",
              "      <td>2PM</td>\n",
              "      <td>Coffee House</td>\n",
              "      <td>2h</td>\n",
              "      <td>Female</td>\n",
              "      <td>21</td>\n",
              "      <td>Unmarried partner</td>\n",
              "      <td>...</td>\n",
              "      <td>never</td>\n",
              "      <td>NaN</td>\n",
              "      <td>4~8</td>\n",
              "      <td>1~3</td>\n",
              "      <td>1</td>\n",
              "      <td>1</td>\n",
              "      <td>0</td>\n",
              "      <td>0</td>\n",
              "      <td>1</td>\n",
              "      <td>0</td>\n",
              "    </tr>\n",
              "    <tr>\n",
              "      <th>4</th>\n",
              "      <td>No Urgent Place</td>\n",
              "      <td>Friend(s)</td>\n",
              "      <td>Sunny</td>\n",
              "      <td>80</td>\n",
              "      <td>2PM</td>\n",
              "      <td>Coffee House</td>\n",
              "      <td>1d</td>\n",
              "      <td>Female</td>\n",
              "      <td>21</td>\n",
              "      <td>Unmarried partner</td>\n",
              "      <td>...</td>\n",
              "      <td>never</td>\n",
              "      <td>NaN</td>\n",
              "      <td>4~8</td>\n",
              "      <td>1~3</td>\n",
              "      <td>1</td>\n",
              "      <td>1</td>\n",
              "      <td>0</td>\n",
              "      <td>0</td>\n",
              "      <td>1</td>\n",
              "      <td>0</td>\n",
              "    </tr>\n",
              "  </tbody>\n",
              "</table>\n",
              "<p>5 rows × 26 columns</p>\n",
              "</div>\n",
              "      <button class=\"colab-df-convert\" onclick=\"convertToInteractive('df-6ee97ea0-2328-4e78-8322-b590b4336dca')\"\n",
              "              title=\"Convert this dataframe to an interactive table.\"\n",
              "              style=\"display:none;\">\n",
              "        \n",
              "  <svg xmlns=\"http://www.w3.org/2000/svg\" height=\"24px\"viewBox=\"0 0 24 24\"\n",
              "       width=\"24px\">\n",
              "    <path d=\"M0 0h24v24H0V0z\" fill=\"none\"/>\n",
              "    <path d=\"M18.56 5.44l.94 2.06.94-2.06 2.06-.94-2.06-.94-.94-2.06-.94 2.06-2.06.94zm-11 1L8.5 8.5l.94-2.06 2.06-.94-2.06-.94L8.5 2.5l-.94 2.06-2.06.94zm10 10l.94 2.06.94-2.06 2.06-.94-2.06-.94-.94-2.06-.94 2.06-2.06.94z\"/><path d=\"M17.41 7.96l-1.37-1.37c-.4-.4-.92-.59-1.43-.59-.52 0-1.04.2-1.43.59L10.3 9.45l-7.72 7.72c-.78.78-.78 2.05 0 2.83L4 21.41c.39.39.9.59 1.41.59.51 0 1.02-.2 1.41-.59l7.78-7.78 2.81-2.81c.8-.78.8-2.07 0-2.86zM5.41 20L4 18.59l7.72-7.72 1.47 1.35L5.41 20z\"/>\n",
              "  </svg>\n",
              "      </button>\n",
              "      \n",
              "  <style>\n",
              "    .colab-df-container {\n",
              "      display:flex;\n",
              "      flex-wrap:wrap;\n",
              "      gap: 12px;\n",
              "    }\n",
              "\n",
              "    .colab-df-convert {\n",
              "      background-color: #E8F0FE;\n",
              "      border: none;\n",
              "      border-radius: 50%;\n",
              "      cursor: pointer;\n",
              "      display: none;\n",
              "      fill: #1967D2;\n",
              "      height: 32px;\n",
              "      padding: 0 0 0 0;\n",
              "      width: 32px;\n",
              "    }\n",
              "\n",
              "    .colab-df-convert:hover {\n",
              "      background-color: #E2EBFA;\n",
              "      box-shadow: 0px 1px 2px rgba(60, 64, 67, 0.3), 0px 1px 3px 1px rgba(60, 64, 67, 0.15);\n",
              "      fill: #174EA6;\n",
              "    }\n",
              "\n",
              "    [theme=dark] .colab-df-convert {\n",
              "      background-color: #3B4455;\n",
              "      fill: #D2E3FC;\n",
              "    }\n",
              "\n",
              "    [theme=dark] .colab-df-convert:hover {\n",
              "      background-color: #434B5C;\n",
              "      box-shadow: 0px 1px 3px 1px rgba(0, 0, 0, 0.15);\n",
              "      filter: drop-shadow(0px 1px 2px rgba(0, 0, 0, 0.3));\n",
              "      fill: #FFFFFF;\n",
              "    }\n",
              "  </style>\n",
              "\n",
              "      <script>\n",
              "        const buttonEl =\n",
              "          document.querySelector('#df-6ee97ea0-2328-4e78-8322-b590b4336dca button.colab-df-convert');\n",
              "        buttonEl.style.display =\n",
              "          google.colab.kernel.accessAllowed ? 'block' : 'none';\n",
              "\n",
              "        async function convertToInteractive(key) {\n",
              "          const element = document.querySelector('#df-6ee97ea0-2328-4e78-8322-b590b4336dca');\n",
              "          const dataTable =\n",
              "            await google.colab.kernel.invokeFunction('convertToInteractive',\n",
              "                                                     [key], {});\n",
              "          if (!dataTable) return;\n",
              "\n",
              "          const docLinkHtml = 'Like what you see? Visit the ' +\n",
              "            '<a target=\"_blank\" href=https://colab.research.google.com/notebooks/data_table.ipynb>data table notebook</a>'\n",
              "            + ' to learn more about interactive tables.';\n",
              "          element.innerHTML = '';\n",
              "          dataTable['output_type'] = 'display_data';\n",
              "          await google.colab.output.renderOutput(dataTable, element);\n",
              "          const docLink = document.createElement('div');\n",
              "          docLink.innerHTML = docLinkHtml;\n",
              "          element.appendChild(docLink);\n",
              "        }\n",
              "      </script>\n",
              "    </div>\n",
              "  </div>\n",
              "  "
            ]
          },
          "metadata": {},
          "execution_count": 33
        }
      ],
      "source": [
        "df = pd.read_csv('/content/sample_data/in-vehicle-coupon-recommendation.csv')\n",
        "df.head(5)"
      ]
    },
    {
      "cell_type": "markdown",
      "id": "3705e52a",
      "metadata": {
        "id": "3705e52a"
      },
      "source": [
        "## Data Preprocessing"
      ]
    },
    {
      "cell_type": "markdown",
      "source": [
        "### Duplicated"
      ],
      "metadata": {
        "id": "nJ6wuvjHcUm8"
      },
      "id": "nJ6wuvjHcUm8"
    },
    {
      "cell_type": "code",
      "source": [
        "df.duplicated().sum()"
      ],
      "metadata": {
        "colab": {
          "base_uri": "https://localhost:8080/"
        },
        "id": "F2HSTXvN13AE",
        "outputId": "e5c2e74d-5823-456f-e8e1-6e7b6a668707"
      },
      "id": "F2HSTXvN13AE",
      "execution_count": 34,
      "outputs": [
        {
          "output_type": "execute_result",
          "data": {
            "text/plain": [
              "74"
            ]
          },
          "metadata": {},
          "execution_count": 34
        }
      ]
    },
    {
      "cell_type": "code",
      "source": [
        "print(f\"Data Frame Dimension Before Duplicate Removal: {df.shape}\")\n",
        "df = df.drop_duplicates()\n",
        "print(f\"Data Frame Dimension After Duplicate Removal: {df.shape}\")"
      ],
      "metadata": {
        "colab": {
          "base_uri": "https://localhost:8080/"
        },
        "id": "I6-Rs2eZcpxN",
        "outputId": "5a808964-2a51-4c56-f1a7-f024d697ff83"
      },
      "id": "I6-Rs2eZcpxN",
      "execution_count": 35,
      "outputs": [
        {
          "output_type": "stream",
          "name": "stdout",
          "text": [
            "Data Frame Dimension Before Duplicate Removal: (12684, 26)\n",
            "Data Frame Dimension After Duplicate Removal: (12610, 26)\n"
          ]
        }
      ]
    },
    {
      "cell_type": "markdown",
      "source": [
        "### Missing Value"
      ],
      "metadata": {
        "id": "YpQQ29zj1pVz"
      },
      "id": "YpQQ29zj1pVz"
    },
    {
      "cell_type": "markdown",
      "source": [
        "#### Numerical"
      ],
      "metadata": {
        "id": "z8THwHgS1j0T"
      },
      "id": "z8THwHgS1j0T"
    },
    {
      "cell_type": "code",
      "source": [
        "df_numerical = df.select_dtypes(include=[\"int\",\"float\"]) #Mengambil kolom yang sifatnya data numerik\n",
        "df_numerical.head()"
      ],
      "metadata": {
        "colab": {
          "base_uri": "https://localhost:8080/",
          "height": 250
        },
        "id": "R2FyOZs_0pXT",
        "outputId": "f94ee3f8-6f73-442a-b67b-a6681784d6f6"
      },
      "id": "R2FyOZs_0pXT",
      "execution_count": 36,
      "outputs": [
        {
          "output_type": "execute_result",
          "data": {
            "text/plain": [
              "   temperature  has_children  toCoupon_GEQ5min  toCoupon_GEQ15min  \\\n",
              "0           55             1                 1                  0   \n",
              "1           80             1                 1                  0   \n",
              "2           80             1                 1                  1   \n",
              "3           80             1                 1                  1   \n",
              "4           80             1                 1                  1   \n",
              "\n",
              "   toCoupon_GEQ25min  direction_same  direction_opp  Y  \n",
              "0                  0               0              1  1  \n",
              "1                  0               0              1  0  \n",
              "2                  0               0              1  1  \n",
              "3                  0               0              1  0  \n",
              "4                  0               0              1  0  "
            ],
            "text/html": [
              "\n",
              "  <div id=\"df-3527e779-7b48-4ca9-a953-cda28ab79ad2\">\n",
              "    <div class=\"colab-df-container\">\n",
              "      <div>\n",
              "<style scoped>\n",
              "    .dataframe tbody tr th:only-of-type {\n",
              "        vertical-align: middle;\n",
              "    }\n",
              "\n",
              "    .dataframe tbody tr th {\n",
              "        vertical-align: top;\n",
              "    }\n",
              "\n",
              "    .dataframe thead th {\n",
              "        text-align: right;\n",
              "    }\n",
              "</style>\n",
              "<table border=\"1\" class=\"dataframe\">\n",
              "  <thead>\n",
              "    <tr style=\"text-align: right;\">\n",
              "      <th></th>\n",
              "      <th>temperature</th>\n",
              "      <th>has_children</th>\n",
              "      <th>toCoupon_GEQ5min</th>\n",
              "      <th>toCoupon_GEQ15min</th>\n",
              "      <th>toCoupon_GEQ25min</th>\n",
              "      <th>direction_same</th>\n",
              "      <th>direction_opp</th>\n",
              "      <th>Y</th>\n",
              "    </tr>\n",
              "  </thead>\n",
              "  <tbody>\n",
              "    <tr>\n",
              "      <th>0</th>\n",
              "      <td>55</td>\n",
              "      <td>1</td>\n",
              "      <td>1</td>\n",
              "      <td>0</td>\n",
              "      <td>0</td>\n",
              "      <td>0</td>\n",
              "      <td>1</td>\n",
              "      <td>1</td>\n",
              "    </tr>\n",
              "    <tr>\n",
              "      <th>1</th>\n",
              "      <td>80</td>\n",
              "      <td>1</td>\n",
              "      <td>1</td>\n",
              "      <td>0</td>\n",
              "      <td>0</td>\n",
              "      <td>0</td>\n",
              "      <td>1</td>\n",
              "      <td>0</td>\n",
              "    </tr>\n",
              "    <tr>\n",
              "      <th>2</th>\n",
              "      <td>80</td>\n",
              "      <td>1</td>\n",
              "      <td>1</td>\n",
              "      <td>1</td>\n",
              "      <td>0</td>\n",
              "      <td>0</td>\n",
              "      <td>1</td>\n",
              "      <td>1</td>\n",
              "    </tr>\n",
              "    <tr>\n",
              "      <th>3</th>\n",
              "      <td>80</td>\n",
              "      <td>1</td>\n",
              "      <td>1</td>\n",
              "      <td>1</td>\n",
              "      <td>0</td>\n",
              "      <td>0</td>\n",
              "      <td>1</td>\n",
              "      <td>0</td>\n",
              "    </tr>\n",
              "    <tr>\n",
              "      <th>4</th>\n",
              "      <td>80</td>\n",
              "      <td>1</td>\n",
              "      <td>1</td>\n",
              "      <td>1</td>\n",
              "      <td>0</td>\n",
              "      <td>0</td>\n",
              "      <td>1</td>\n",
              "      <td>0</td>\n",
              "    </tr>\n",
              "  </tbody>\n",
              "</table>\n",
              "</div>\n",
              "      <button class=\"colab-df-convert\" onclick=\"convertToInteractive('df-3527e779-7b48-4ca9-a953-cda28ab79ad2')\"\n",
              "              title=\"Convert this dataframe to an interactive table.\"\n",
              "              style=\"display:none;\">\n",
              "        \n",
              "  <svg xmlns=\"http://www.w3.org/2000/svg\" height=\"24px\"viewBox=\"0 0 24 24\"\n",
              "       width=\"24px\">\n",
              "    <path d=\"M0 0h24v24H0V0z\" fill=\"none\"/>\n",
              "    <path d=\"M18.56 5.44l.94 2.06.94-2.06 2.06-.94-2.06-.94-.94-2.06-.94 2.06-2.06.94zm-11 1L8.5 8.5l.94-2.06 2.06-.94-2.06-.94L8.5 2.5l-.94 2.06-2.06.94zm10 10l.94 2.06.94-2.06 2.06-.94-2.06-.94-.94-2.06-.94 2.06-2.06.94z\"/><path d=\"M17.41 7.96l-1.37-1.37c-.4-.4-.92-.59-1.43-.59-.52 0-1.04.2-1.43.59L10.3 9.45l-7.72 7.72c-.78.78-.78 2.05 0 2.83L4 21.41c.39.39.9.59 1.41.59.51 0 1.02-.2 1.41-.59l7.78-7.78 2.81-2.81c.8-.78.8-2.07 0-2.86zM5.41 20L4 18.59l7.72-7.72 1.47 1.35L5.41 20z\"/>\n",
              "  </svg>\n",
              "      </button>\n",
              "      \n",
              "  <style>\n",
              "    .colab-df-container {\n",
              "      display:flex;\n",
              "      flex-wrap:wrap;\n",
              "      gap: 12px;\n",
              "    }\n",
              "\n",
              "    .colab-df-convert {\n",
              "      background-color: #E8F0FE;\n",
              "      border: none;\n",
              "      border-radius: 50%;\n",
              "      cursor: pointer;\n",
              "      display: none;\n",
              "      fill: #1967D2;\n",
              "      height: 32px;\n",
              "      padding: 0 0 0 0;\n",
              "      width: 32px;\n",
              "    }\n",
              "\n",
              "    .colab-df-convert:hover {\n",
              "      background-color: #E2EBFA;\n",
              "      box-shadow: 0px 1px 2px rgba(60, 64, 67, 0.3), 0px 1px 3px 1px rgba(60, 64, 67, 0.15);\n",
              "      fill: #174EA6;\n",
              "    }\n",
              "\n",
              "    [theme=dark] .colab-df-convert {\n",
              "      background-color: #3B4455;\n",
              "      fill: #D2E3FC;\n",
              "    }\n",
              "\n",
              "    [theme=dark] .colab-df-convert:hover {\n",
              "      background-color: #434B5C;\n",
              "      box-shadow: 0px 1px 3px 1px rgba(0, 0, 0, 0.15);\n",
              "      filter: drop-shadow(0px 1px 2px rgba(0, 0, 0, 0.3));\n",
              "      fill: #FFFFFF;\n",
              "    }\n",
              "  </style>\n",
              "\n",
              "      <script>\n",
              "        const buttonEl =\n",
              "          document.querySelector('#df-3527e779-7b48-4ca9-a953-cda28ab79ad2 button.colab-df-convert');\n",
              "        buttonEl.style.display =\n",
              "          google.colab.kernel.accessAllowed ? 'block' : 'none';\n",
              "\n",
              "        async function convertToInteractive(key) {\n",
              "          const element = document.querySelector('#df-3527e779-7b48-4ca9-a953-cda28ab79ad2');\n",
              "          const dataTable =\n",
              "            await google.colab.kernel.invokeFunction('convertToInteractive',\n",
              "                                                     [key], {});\n",
              "          if (!dataTable) return;\n",
              "\n",
              "          const docLinkHtml = 'Like what you see? Visit the ' +\n",
              "            '<a target=\"_blank\" href=https://colab.research.google.com/notebooks/data_table.ipynb>data table notebook</a>'\n",
              "            + ' to learn more about interactive tables.';\n",
              "          element.innerHTML = '';\n",
              "          dataTable['output_type'] = 'display_data';\n",
              "          await google.colab.output.renderOutput(dataTable, element);\n",
              "          const docLink = document.createElement('div');\n",
              "          docLink.innerHTML = docLinkHtml;\n",
              "          element.appendChild(docLink);\n",
              "        }\n",
              "      </script>\n",
              "    </div>\n",
              "  </div>\n",
              "  "
            ]
          },
          "metadata": {},
          "execution_count": 36
        }
      ]
    },
    {
      "cell_type": "code",
      "source": [
        "df_numerical.isnull().sum()"
      ],
      "metadata": {
        "colab": {
          "base_uri": "https://localhost:8080/"
        },
        "id": "q-f1KCZS4wBf",
        "outputId": "54e4d64d-181c-4d3a-cfd8-beb27788d33d"
      },
      "id": "q-f1KCZS4wBf",
      "execution_count": 37,
      "outputs": [
        {
          "output_type": "execute_result",
          "data": {
            "text/plain": [
              "temperature          0\n",
              "has_children         0\n",
              "toCoupon_GEQ5min     0\n",
              "toCoupon_GEQ15min    0\n",
              "toCoupon_GEQ25min    0\n",
              "direction_same       0\n",
              "direction_opp        0\n",
              "Y                    0\n",
              "dtype: int64"
            ]
          },
          "metadata": {},
          "execution_count": 37
        }
      ]
    },
    {
      "cell_type": "code",
      "source": [
        "print(f\"Data Frame Numerical: {df_numerical.shape}\")"
      ],
      "metadata": {
        "colab": {
          "base_uri": "https://localhost:8080/"
        },
        "id": "wBJbtW2DD7Lk",
        "outputId": "feec6333-e99b-4e02-9929-5680eb6a641a"
      },
      "id": "wBJbtW2DD7Lk",
      "execution_count": 38,
      "outputs": [
        {
          "output_type": "stream",
          "name": "stdout",
          "text": [
            "Data Frame Numerical: (12610, 8)\n"
          ]
        }
      ]
    },
    {
      "cell_type": "markdown",
      "source": [
        "#### Categorical"
      ],
      "metadata": {
        "id": "Y6zUZ-mPdsTN"
      },
      "id": "Y6zUZ-mPdsTN"
    },
    {
      "cell_type": "code",
      "source": [
        "df_categorical = df.select_dtypes(exclude=[\"int\",\"float\"])\n",
        "df_categorical.head()"
      ],
      "metadata": {
        "colab": {
          "base_uri": "https://localhost:8080/",
          "height": 444
        },
        "id": "YpUC2z5ldxP4",
        "outputId": "ae673cc9-c051-4960-d509-046e51f27945"
      },
      "id": "YpUC2z5ldxP4",
      "execution_count": 39,
      "outputs": [
        {
          "output_type": "execute_result",
          "data": {
            "text/plain": [
              "       destination  passanger weather  time                 coupon expiration  \\\n",
              "0  No Urgent Place      Alone   Sunny   2PM        Restaurant(<20)         1d   \n",
              "1  No Urgent Place  Friend(s)   Sunny  10AM           Coffee House         2h   \n",
              "2  No Urgent Place  Friend(s)   Sunny  10AM  Carry out & Take away         2h   \n",
              "3  No Urgent Place  Friend(s)   Sunny   2PM           Coffee House         2h   \n",
              "4  No Urgent Place  Friend(s)   Sunny   2PM           Coffee House         1d   \n",
              "\n",
              "   gender age      maritalStatus                 education  occupation  \\\n",
              "0  Female  21  Unmarried partner  Some college - no degree  Unemployed   \n",
              "1  Female  21  Unmarried partner  Some college - no degree  Unemployed   \n",
              "2  Female  21  Unmarried partner  Some college - no degree  Unemployed   \n",
              "3  Female  21  Unmarried partner  Some college - no degree  Unemployed   \n",
              "4  Female  21  Unmarried partner  Some college - no degree  Unemployed   \n",
              "\n",
              "            income  car    Bar CoffeeHouse CarryAway RestaurantLessThan20  \\\n",
              "0  $37500 - $49999  NaN  never       never       NaN                  4~8   \n",
              "1  $37500 - $49999  NaN  never       never       NaN                  4~8   \n",
              "2  $37500 - $49999  NaN  never       never       NaN                  4~8   \n",
              "3  $37500 - $49999  NaN  never       never       NaN                  4~8   \n",
              "4  $37500 - $49999  NaN  never       never       NaN                  4~8   \n",
              "\n",
              "  Restaurant20To50  \n",
              "0              1~3  \n",
              "1              1~3  \n",
              "2              1~3  \n",
              "3              1~3  \n",
              "4              1~3  "
            ],
            "text/html": [
              "\n",
              "  <div id=\"df-a1a0e187-4cbe-4a95-ae59-58327ec913a5\">\n",
              "    <div class=\"colab-df-container\">\n",
              "      <div>\n",
              "<style scoped>\n",
              "    .dataframe tbody tr th:only-of-type {\n",
              "        vertical-align: middle;\n",
              "    }\n",
              "\n",
              "    .dataframe tbody tr th {\n",
              "        vertical-align: top;\n",
              "    }\n",
              "\n",
              "    .dataframe thead th {\n",
              "        text-align: right;\n",
              "    }\n",
              "</style>\n",
              "<table border=\"1\" class=\"dataframe\">\n",
              "  <thead>\n",
              "    <tr style=\"text-align: right;\">\n",
              "      <th></th>\n",
              "      <th>destination</th>\n",
              "      <th>passanger</th>\n",
              "      <th>weather</th>\n",
              "      <th>time</th>\n",
              "      <th>coupon</th>\n",
              "      <th>expiration</th>\n",
              "      <th>gender</th>\n",
              "      <th>age</th>\n",
              "      <th>maritalStatus</th>\n",
              "      <th>education</th>\n",
              "      <th>occupation</th>\n",
              "      <th>income</th>\n",
              "      <th>car</th>\n",
              "      <th>Bar</th>\n",
              "      <th>CoffeeHouse</th>\n",
              "      <th>CarryAway</th>\n",
              "      <th>RestaurantLessThan20</th>\n",
              "      <th>Restaurant20To50</th>\n",
              "    </tr>\n",
              "  </thead>\n",
              "  <tbody>\n",
              "    <tr>\n",
              "      <th>0</th>\n",
              "      <td>No Urgent Place</td>\n",
              "      <td>Alone</td>\n",
              "      <td>Sunny</td>\n",
              "      <td>2PM</td>\n",
              "      <td>Restaurant(&lt;20)</td>\n",
              "      <td>1d</td>\n",
              "      <td>Female</td>\n",
              "      <td>21</td>\n",
              "      <td>Unmarried partner</td>\n",
              "      <td>Some college - no degree</td>\n",
              "      <td>Unemployed</td>\n",
              "      <td>$37500 - $49999</td>\n",
              "      <td>NaN</td>\n",
              "      <td>never</td>\n",
              "      <td>never</td>\n",
              "      <td>NaN</td>\n",
              "      <td>4~8</td>\n",
              "      <td>1~3</td>\n",
              "    </tr>\n",
              "    <tr>\n",
              "      <th>1</th>\n",
              "      <td>No Urgent Place</td>\n",
              "      <td>Friend(s)</td>\n",
              "      <td>Sunny</td>\n",
              "      <td>10AM</td>\n",
              "      <td>Coffee House</td>\n",
              "      <td>2h</td>\n",
              "      <td>Female</td>\n",
              "      <td>21</td>\n",
              "      <td>Unmarried partner</td>\n",
              "      <td>Some college - no degree</td>\n",
              "      <td>Unemployed</td>\n",
              "      <td>$37500 - $49999</td>\n",
              "      <td>NaN</td>\n",
              "      <td>never</td>\n",
              "      <td>never</td>\n",
              "      <td>NaN</td>\n",
              "      <td>4~8</td>\n",
              "      <td>1~3</td>\n",
              "    </tr>\n",
              "    <tr>\n",
              "      <th>2</th>\n",
              "      <td>No Urgent Place</td>\n",
              "      <td>Friend(s)</td>\n",
              "      <td>Sunny</td>\n",
              "      <td>10AM</td>\n",
              "      <td>Carry out &amp; Take away</td>\n",
              "      <td>2h</td>\n",
              "      <td>Female</td>\n",
              "      <td>21</td>\n",
              "      <td>Unmarried partner</td>\n",
              "      <td>Some college - no degree</td>\n",
              "      <td>Unemployed</td>\n",
              "      <td>$37500 - $49999</td>\n",
              "      <td>NaN</td>\n",
              "      <td>never</td>\n",
              "      <td>never</td>\n",
              "      <td>NaN</td>\n",
              "      <td>4~8</td>\n",
              "      <td>1~3</td>\n",
              "    </tr>\n",
              "    <tr>\n",
              "      <th>3</th>\n",
              "      <td>No Urgent Place</td>\n",
              "      <td>Friend(s)</td>\n",
              "      <td>Sunny</td>\n",
              "      <td>2PM</td>\n",
              "      <td>Coffee House</td>\n",
              "      <td>2h</td>\n",
              "      <td>Female</td>\n",
              "      <td>21</td>\n",
              "      <td>Unmarried partner</td>\n",
              "      <td>Some college - no degree</td>\n",
              "      <td>Unemployed</td>\n",
              "      <td>$37500 - $49999</td>\n",
              "      <td>NaN</td>\n",
              "      <td>never</td>\n",
              "      <td>never</td>\n",
              "      <td>NaN</td>\n",
              "      <td>4~8</td>\n",
              "      <td>1~3</td>\n",
              "    </tr>\n",
              "    <tr>\n",
              "      <th>4</th>\n",
              "      <td>No Urgent Place</td>\n",
              "      <td>Friend(s)</td>\n",
              "      <td>Sunny</td>\n",
              "      <td>2PM</td>\n",
              "      <td>Coffee House</td>\n",
              "      <td>1d</td>\n",
              "      <td>Female</td>\n",
              "      <td>21</td>\n",
              "      <td>Unmarried partner</td>\n",
              "      <td>Some college - no degree</td>\n",
              "      <td>Unemployed</td>\n",
              "      <td>$37500 - $49999</td>\n",
              "      <td>NaN</td>\n",
              "      <td>never</td>\n",
              "      <td>never</td>\n",
              "      <td>NaN</td>\n",
              "      <td>4~8</td>\n",
              "      <td>1~3</td>\n",
              "    </tr>\n",
              "  </tbody>\n",
              "</table>\n",
              "</div>\n",
              "      <button class=\"colab-df-convert\" onclick=\"convertToInteractive('df-a1a0e187-4cbe-4a95-ae59-58327ec913a5')\"\n",
              "              title=\"Convert this dataframe to an interactive table.\"\n",
              "              style=\"display:none;\">\n",
              "        \n",
              "  <svg xmlns=\"http://www.w3.org/2000/svg\" height=\"24px\"viewBox=\"0 0 24 24\"\n",
              "       width=\"24px\">\n",
              "    <path d=\"M0 0h24v24H0V0z\" fill=\"none\"/>\n",
              "    <path d=\"M18.56 5.44l.94 2.06.94-2.06 2.06-.94-2.06-.94-.94-2.06-.94 2.06-2.06.94zm-11 1L8.5 8.5l.94-2.06 2.06-.94-2.06-.94L8.5 2.5l-.94 2.06-2.06.94zm10 10l.94 2.06.94-2.06 2.06-.94-2.06-.94-.94-2.06-.94 2.06-2.06.94z\"/><path d=\"M17.41 7.96l-1.37-1.37c-.4-.4-.92-.59-1.43-.59-.52 0-1.04.2-1.43.59L10.3 9.45l-7.72 7.72c-.78.78-.78 2.05 0 2.83L4 21.41c.39.39.9.59 1.41.59.51 0 1.02-.2 1.41-.59l7.78-7.78 2.81-2.81c.8-.78.8-2.07 0-2.86zM5.41 20L4 18.59l7.72-7.72 1.47 1.35L5.41 20z\"/>\n",
              "  </svg>\n",
              "      </button>\n",
              "      \n",
              "  <style>\n",
              "    .colab-df-container {\n",
              "      display:flex;\n",
              "      flex-wrap:wrap;\n",
              "      gap: 12px;\n",
              "    }\n",
              "\n",
              "    .colab-df-convert {\n",
              "      background-color: #E8F0FE;\n",
              "      border: none;\n",
              "      border-radius: 50%;\n",
              "      cursor: pointer;\n",
              "      display: none;\n",
              "      fill: #1967D2;\n",
              "      height: 32px;\n",
              "      padding: 0 0 0 0;\n",
              "      width: 32px;\n",
              "    }\n",
              "\n",
              "    .colab-df-convert:hover {\n",
              "      background-color: #E2EBFA;\n",
              "      box-shadow: 0px 1px 2px rgba(60, 64, 67, 0.3), 0px 1px 3px 1px rgba(60, 64, 67, 0.15);\n",
              "      fill: #174EA6;\n",
              "    }\n",
              "\n",
              "    [theme=dark] .colab-df-convert {\n",
              "      background-color: #3B4455;\n",
              "      fill: #D2E3FC;\n",
              "    }\n",
              "\n",
              "    [theme=dark] .colab-df-convert:hover {\n",
              "      background-color: #434B5C;\n",
              "      box-shadow: 0px 1px 3px 1px rgba(0, 0, 0, 0.15);\n",
              "      filter: drop-shadow(0px 1px 2px rgba(0, 0, 0, 0.3));\n",
              "      fill: #FFFFFF;\n",
              "    }\n",
              "  </style>\n",
              "\n",
              "      <script>\n",
              "        const buttonEl =\n",
              "          document.querySelector('#df-a1a0e187-4cbe-4a95-ae59-58327ec913a5 button.colab-df-convert');\n",
              "        buttonEl.style.display =\n",
              "          google.colab.kernel.accessAllowed ? 'block' : 'none';\n",
              "\n",
              "        async function convertToInteractive(key) {\n",
              "          const element = document.querySelector('#df-a1a0e187-4cbe-4a95-ae59-58327ec913a5');\n",
              "          const dataTable =\n",
              "            await google.colab.kernel.invokeFunction('convertToInteractive',\n",
              "                                                     [key], {});\n",
              "          if (!dataTable) return;\n",
              "\n",
              "          const docLinkHtml = 'Like what you see? Visit the ' +\n",
              "            '<a target=\"_blank\" href=https://colab.research.google.com/notebooks/data_table.ipynb>data table notebook</a>'\n",
              "            + ' to learn more about interactive tables.';\n",
              "          element.innerHTML = '';\n",
              "          dataTable['output_type'] = 'display_data';\n",
              "          await google.colab.output.renderOutput(dataTable, element);\n",
              "          const docLink = document.createElement('div');\n",
              "          docLink.innerHTML = docLinkHtml;\n",
              "          element.appendChild(docLink);\n",
              "        }\n",
              "      </script>\n",
              "    </div>\n",
              "  </div>\n",
              "  "
            ]
          },
          "metadata": {},
          "execution_count": 39
        }
      ]
    },
    {
      "cell_type": "code",
      "source": [
        "df_categorical.isnull().sum()"
      ],
      "metadata": {
        "colab": {
          "base_uri": "https://localhost:8080/"
        },
        "id": "Gzj9UNFiXvFf",
        "outputId": "67b666f7-54bf-400d-9ca6-86bc69be0a34"
      },
      "id": "Gzj9UNFiXvFf",
      "execution_count": 40,
      "outputs": [
        {
          "output_type": "execute_result",
          "data": {
            "text/plain": [
              "destination                 0\n",
              "passanger                   0\n",
              "weather                     0\n",
              "time                        0\n",
              "coupon                      0\n",
              "expiration                  0\n",
              "gender                      0\n",
              "age                         0\n",
              "maritalStatus               0\n",
              "education                   0\n",
              "occupation                  0\n",
              "income                      0\n",
              "car                     12502\n",
              "Bar                       107\n",
              "CoffeeHouse               217\n",
              "CarryAway                 150\n",
              "RestaurantLessThan20      129\n",
              "Restaurant20To50          189\n",
              "dtype: int64"
            ]
          },
          "metadata": {},
          "execution_count": 40
        }
      ]
    },
    {
      "cell_type": "code",
      "source": [
        "# Missing Value Information in Percentage\n",
        "(100.00 * df_categorical.isnull().sum()) / df.shape[0]"
      ],
      "metadata": {
        "colab": {
          "base_uri": "https://localhost:8080/"
        },
        "id": "IyEXoApceCuZ",
        "outputId": "f16ca864-e14c-4462-f47e-8d3cab811471"
      },
      "id": "IyEXoApceCuZ",
      "execution_count": 41,
      "outputs": [
        {
          "output_type": "execute_result",
          "data": {
            "text/plain": [
              "destination              0.000000\n",
              "passanger                0.000000\n",
              "weather                  0.000000\n",
              "time                     0.000000\n",
              "coupon                   0.000000\n",
              "expiration               0.000000\n",
              "gender                   0.000000\n",
              "age                      0.000000\n",
              "maritalStatus            0.000000\n",
              "education                0.000000\n",
              "occupation               0.000000\n",
              "income                   0.000000\n",
              "car                     99.143537\n",
              "Bar                      0.848533\n",
              "CoffeeHouse              1.720856\n",
              "CarryAway                1.189532\n",
              "RestaurantLessThan20     1.022998\n",
              "Restaurant20To50         1.498810\n",
              "dtype: float64"
            ]
          },
          "metadata": {},
          "execution_count": 41
        }
      ]
    },
    {
      "cell_type": "markdown",
      "source": [
        "It is recommended to remove feature whose missing value number > 50%"
      ],
      "metadata": {
        "id": "jMF2g1vJZd4D"
      },
      "id": "jMF2g1vJZd4D"
    },
    {
      "cell_type": "code",
      "source": [
        "# Remove car\n",
        "print(f\"Data Frame Dimension Before Duplicate Removal: {df_categorical.shape}\")\n",
        "df_categorical = df_categorical.drop([\"car\"],axis = 1)\n",
        "print(f\"Data Frame Dimension After Duplicate Removal: {df_categorical.shape}\")"
      ],
      "metadata": {
        "colab": {
          "base_uri": "https://localhost:8080/"
        },
        "id": "KsOkk186ZmYS",
        "outputId": "42f70ec4-0100-4e1c-bf83-a03c705c5cc2"
      },
      "id": "KsOkk186ZmYS",
      "execution_count": 42,
      "outputs": [
        {
          "output_type": "stream",
          "name": "stdout",
          "text": [
            "Data Frame Dimension Before Duplicate Removal: (12610, 18)\n",
            "Data Frame Dimension After Duplicate Removal: (12610, 17)\n"
          ]
        }
      ]
    },
    {
      "cell_type": "code",
      "source": [
        "# Find out the \"mode\" from categorical feature using value_counts()\n",
        "print(df_categorical[\"Bar\"].value_counts())\n",
        "print(df_categorical[\"CoffeeHouse\"].value_counts())\n",
        "print(df_categorical[\"CarryAway\"].value_counts())\n",
        "print(df_categorical[\"RestaurantLessThan20\"].value_counts())\n",
        "print(df_categorical[\"Restaurant20To50\"].value_counts())"
      ],
      "metadata": {
        "colab": {
          "base_uri": "https://localhost:8080/"
        },
        "id": "2-ihRI7z49eL",
        "outputId": "fe3ce817-d7fd-45f7-ac16-dc36698f3061"
      },
      "id": "2-ihRI7z49eL",
      "execution_count": 43,
      "outputs": [
        {
          "output_type": "stream",
          "name": "stdout",
          "text": [
            "never    5178\n",
            "less1    3438\n",
            "1~3      2468\n",
            "4~8      1071\n",
            "gt8       348\n",
            "Name: Bar, dtype: int64\n",
            "less1    3362\n",
            "1~3      3199\n",
            "never    2946\n",
            "4~8      1779\n",
            "gt8      1107\n",
            "Name: CoffeeHouse, dtype: int64\n",
            "1~3      4645\n",
            "4~8      4242\n",
            "less1    1849\n",
            "gt8      1572\n",
            "never     152\n",
            "Name: CarryAway, dtype: int64\n",
            "1~3      5356\n",
            "4~8      3553\n",
            "less1    2071\n",
            "gt8      1282\n",
            "never     219\n",
            "Name: RestaurantLessThan20, dtype: int64\n",
            "less1    6041\n",
            "1~3      3266\n",
            "never    2122\n",
            "4~8       728\n",
            "gt8       264\n",
            "Name: Restaurant20To50, dtype: int64\n"
          ]
        }
      ]
    },
    {
      "cell_type": "code",
      "source": [
        "import statistics\n",
        "\n",
        "# Mode\n",
        "df_categorical[\"Bar\"] = df_categorical[\"Bar\"].fillna(statistics.mode(df_categorical[\"Bar\"]))\n",
        "df_categorical[\"CoffeeHouse\"] = df_categorical[\"CoffeeHouse\"].fillna(statistics.mode(df_categorical[\"CoffeeHouse\"]))\n",
        "df_categorical[\"CarryAway\"] = df_categorical[\"CarryAway\"].fillna(statistics.mode(df_categorical[\"CarryAway\"]))\n",
        "df_categorical[\"RestaurantLessThan20\"] = df_categorical[\"RestaurantLessThan20\"].fillna(statistics.mode(df_categorical[\"RestaurantLessThan20\"]))\n",
        "df_categorical[\"Restaurant20To50\"] = df_categorical[\"Restaurant20To50\"].fillna(statistics.mode(df_categorical[\"Restaurant20To50\"]))\n",
        "\n",
        "# Missing Value Recount\n",
        "df_categorical.isnull().sum()"
      ],
      "metadata": {
        "colab": {
          "base_uri": "https://localhost:8080/"
        },
        "id": "8eMRjvL65N19",
        "outputId": "3c3ef66c-9a73-4a73-8b32-e3efc3ca4e6d"
      },
      "id": "8eMRjvL65N19",
      "execution_count": 44,
      "outputs": [
        {
          "output_type": "execute_result",
          "data": {
            "text/plain": [
              "destination             0\n",
              "passanger               0\n",
              "weather                 0\n",
              "time                    0\n",
              "coupon                  0\n",
              "expiration              0\n",
              "gender                  0\n",
              "age                     0\n",
              "maritalStatus           0\n",
              "education               0\n",
              "occupation              0\n",
              "income                  0\n",
              "Bar                     0\n",
              "CoffeeHouse             0\n",
              "CarryAway               0\n",
              "RestaurantLessThan20    0\n",
              "Restaurant20To50        0\n",
              "dtype: int64"
            ]
          },
          "metadata": {},
          "execution_count": 44
        }
      ]
    },
    {
      "cell_type": "code",
      "source": [
        "print(f\"Data Frame Categorical: {df_categorical.shape}\")"
      ],
      "metadata": {
        "colab": {
          "base_uri": "https://localhost:8080/"
        },
        "id": "iQoqvX9g3ia7",
        "outputId": "126f1e64-09e7-43a7-8dda-f021ee31fcd8"
      },
      "id": "iQoqvX9g3ia7",
      "execution_count": 45,
      "outputs": [
        {
          "output_type": "stream",
          "name": "stdout",
          "text": [
            "Data Frame Categorical: (12610, 17)\n"
          ]
        }
      ]
    },
    {
      "cell_type": "markdown",
      "source": [
        "### Outlier Handling"
      ],
      "metadata": {
        "id": "g9jdRzSD13qm"
      },
      "id": "g9jdRzSD13qm"
    },
    {
      "cell_type": "code",
      "source": [
        "# Use Boxplot\n",
        "df_numerical = df.select_dtypes(include = [\"int64\",\"float64\"])\n",
        "\n",
        "# Figure Size Setting\n",
        "plt.figure(figsize=(12,8))\n",
        "\n",
        "# Boxplot using Seaborn\n",
        "sns.boxplot(data=df_numerical,\n",
        "            palette=\"husl\")\n",
        "\n",
        "# Show the plot\n",
        "plt.show()"
      ],
      "metadata": {
        "colab": {
          "base_uri": "https://localhost:8080/",
          "height": 484
        },
        "id": "EuKaQ1Th2BrE",
        "outputId": "28ab2ccb-3285-4e2a-d491-bd719c95a795"
      },
      "id": "EuKaQ1Th2BrE",
      "execution_count": 46,
      "outputs": [
        {
          "output_type": "display_data",
          "data": {
            "text/plain": [
              "<Figure size 864x576 with 1 Axes>"
            ],
            "image/png": "[encoded data removed]"
          },
          "metadata": {
            "needs_background": "light"
          }
        }
      ]
    },
    {
      "cell_type": "markdown",
      "source": [
        "### Multicolinearity Handling"
      ],
      "metadata": {
        "id": "n-oPcP1KBijm"
      },
      "id": "n-oPcP1KBijm"
    },
    {
      "cell_type": "code",
      "source": [
        "corr_= df_numerical.corr()\n",
        "plt.figure(figsize=(16,10))\n",
        "sns.heatmap(corr_, annot=True, fmt = \".2f\", cmap = \"BuPu\")"
      ],
      "metadata": {
        "colab": {
          "base_uri": "https://localhost:8080/",
          "height": 704
        },
        "id": "2ICGXRiTBrMI",
        "outputId": "c4180148-444c-40b3-d287-6ea70db8a758"
      },
      "id": "2ICGXRiTBrMI",
      "execution_count": 47,
      "outputs": [
        {
          "output_type": "execute_result",
          "data": {
            "text/plain": [
              "<matplotlib.axes._subplots.AxesSubplot at 0x7f89fe1dd190>"
            ]
          },
          "metadata": {},
          "execution_count": 47
        },
        {
          "output_type": "display_data",
          "data": {
            "text/plain": [
              "<Figure size 1152x720 with 2 Axes>"
            ],
            "image/png": "[encoded data removed]"
          },
          "metadata": {
            "needs_background": "light"
          }
        }
      ]
    },
    {
      "cell_type": "code",
      "source": [
        "# Choose one between direction_same and direction_opp\n",
        "\n",
        "df_numerical = df_numerical.drop([\"direction_opp\"],axis = 1)"
      ],
      "metadata": {
        "id": "5UbGNp2Y0lbJ"
      },
      "id": "5UbGNp2Y0lbJ",
      "execution_count": 48,
      "outputs": []
    },
    {
      "cell_type": "markdown",
      "source": [
        "### Processing Categorical Variable"
      ],
      "metadata": {
        "id": "eFgT7T6q52XM"
      },
      "id": "eFgT7T6q52XM"
    },
    {
      "cell_type": "code",
      "source": [
        "df_categorical.head()"
      ],
      "metadata": {
        "colab": {
          "base_uri": "https://localhost:8080/",
          "height": 444
        },
        "id": "NRTNaxfm57XI",
        "outputId": "3ec515fb-d6db-45ae-cdea-659f77481b36"
      },
      "id": "NRTNaxfm57XI",
      "execution_count": 49,
      "outputs": [
        {
          "output_type": "execute_result",
          "data": {
            "text/plain": [
              "       destination  passanger weather  time                 coupon expiration  \\\n",
              "0  No Urgent Place      Alone   Sunny   2PM        Restaurant(<20)         1d   \n",
              "1  No Urgent Place  Friend(s)   Sunny  10AM           Coffee House         2h   \n",
              "2  No Urgent Place  Friend(s)   Sunny  10AM  Carry out & Take away         2h   \n",
              "3  No Urgent Place  Friend(s)   Sunny   2PM           Coffee House         2h   \n",
              "4  No Urgent Place  Friend(s)   Sunny   2PM           Coffee House         1d   \n",
              "\n",
              "   gender age      maritalStatus                 education  occupation  \\\n",
              "0  Female  21  Unmarried partner  Some college - no degree  Unemployed   \n",
              "1  Female  21  Unmarried partner  Some college - no degree  Unemployed   \n",
              "2  Female  21  Unmarried partner  Some college - no degree  Unemployed   \n",
              "3  Female  21  Unmarried partner  Some college - no degree  Unemployed   \n",
              "4  Female  21  Unmarried partner  Some college - no degree  Unemployed   \n",
              "\n",
              "            income    Bar CoffeeHouse CarryAway RestaurantLessThan20  \\\n",
              "0  $37500 - $49999  never       never       1~3                  4~8   \n",
              "1  $37500 - $49999  never       never       1~3                  4~8   \n",
              "2  $37500 - $49999  never       never       1~3                  4~8   \n",
              "3  $37500 - $49999  never       never       1~3                  4~8   \n",
              "4  $37500 - $49999  never       never       1~3                  4~8   \n",
              "\n",
              "  Restaurant20To50  \n",
              "0              1~3  \n",
              "1              1~3  \n",
              "2              1~3  \n",
              "3              1~3  \n",
              "4              1~3  "
            ],
            "text/html": [
              "\n",
              "  <div id=\"df-e288994c-6a9d-4d2c-86f3-31694c9c4beb\">\n",
              "    <div class=\"colab-df-container\">\n",
              "      <div>\n",
              "<style scoped>\n",
              "    .dataframe tbody tr th:only-of-type {\n",
              "        vertical-align: middle;\n",
              "    }\n",
              "\n",
              "    .dataframe tbody tr th {\n",
              "        vertical-align: top;\n",
              "    }\n",
              "\n",
              "    .dataframe thead th {\n",
              "        text-align: right;\n",
              "    }\n",
              "</style>\n",
              "<table border=\"1\" class=\"dataframe\">\n",
              "  <thead>\n",
              "    <tr style=\"text-align: right;\">\n",
              "      <th></th>\n",
              "      <th>destination</th>\n",
              "      <th>passanger</th>\n",
              "      <th>weather</th>\n",
              "      <th>time</th>\n",
              "      <th>coupon</th>\n",
              "      <th>expiration</th>\n",
              "      <th>gender</th>\n",
              "      <th>age</th>\n",
              "      <th>maritalStatus</th>\n",
              "      <th>education</th>\n",
              "      <th>occupation</th>\n",
              "      <th>income</th>\n",
              "      <th>Bar</th>\n",
              "      <th>CoffeeHouse</th>\n",
              "      <th>CarryAway</th>\n",
              "      <th>RestaurantLessThan20</th>\n",
              "      <th>Restaurant20To50</th>\n",
              "    </tr>\n",
              "  </thead>\n",
              "  <tbody>\n",
              "    <tr>\n",
              "      <th>0</th>\n",
              "      <td>No Urgent Place</td>\n",
              "      <td>Alone</td>\n",
              "      <td>Sunny</td>\n",
              "      <td>2PM</td>\n",
              "      <td>Restaurant(&lt;20)</td>\n",
              "      <td>1d</td>\n",
              "      <td>Female</td>\n",
              "      <td>21</td>\n",
              "      <td>Unmarried partner</td>\n",
              "      <td>Some college - no degree</td>\n",
              "      <td>Unemployed</td>\n",
              "      <td>$37500 - $49999</td>\n",
              "      <td>never</td>\n",
              "      <td>never</td>\n",
              "      <td>1~3</td>\n",
              "      <td>4~8</td>\n",
              "      <td>1~3</td>\n",
              "    </tr>\n",
              "    <tr>\n",
              "      <th>1</th>\n",
              "      <td>No Urgent Place</td>\n",
              "      <td>Friend(s)</td>\n",
              "      <td>Sunny</td>\n",
              "      <td>10AM</td>\n",
              "      <td>Coffee House</td>\n",
              "      <td>2h</td>\n",
              "      <td>Female</td>\n",
              "      <td>21</td>\n",
              "      <td>Unmarried partner</td>\n",
              "      <td>Some college - no degree</td>\n",
              "      <td>Unemployed</td>\n",
              "      <td>$37500 - $49999</td>\n",
              "      <td>never</td>\n",
              "      <td>never</td>\n",
              "      <td>1~3</td>\n",
              "      <td>4~8</td>\n",
              "      <td>1~3</td>\n",
              "    </tr>\n",
              "    <tr>\n",
              "      <th>2</th>\n",
              "      <td>No Urgent Place</td>\n",
              "      <td>Friend(s)</td>\n",
              "      <td>Sunny</td>\n",
              "      <td>10AM</td>\n",
              "      <td>Carry out &amp; Take away</td>\n",
              "      <td>2h</td>\n",
              "      <td>Female</td>\n",
              "      <td>21</td>\n",
              "      <td>Unmarried partner</td>\n",
              "      <td>Some college - no degree</td>\n",
              "      <td>Unemployed</td>\n",
              "      <td>$37500 - $49999</td>\n",
              "      <td>never</td>\n",
              "      <td>never</td>\n",
              "      <td>1~3</td>\n",
              "      <td>4~8</td>\n",
              "      <td>1~3</td>\n",
              "    </tr>\n",
              "    <tr>\n",
              "      <th>3</th>\n",
              "      <td>No Urgent Place</td>\n",
              "      <td>Friend(s)</td>\n",
              "      <td>Sunny</td>\n",
              "      <td>2PM</td>\n",
              "      <td>Coffee House</td>\n",
              "      <td>2h</td>\n",
              "      <td>Female</td>\n",
              "      <td>21</td>\n",
              "      <td>Unmarried partner</td>\n",
              "      <td>Some college - no degree</td>\n",
              "      <td>Unemployed</td>\n",
              "      <td>$37500 - $49999</td>\n",
              "      <td>never</td>\n",
              "      <td>never</td>\n",
              "      <td>1~3</td>\n",
              "      <td>4~8</td>\n",
              "      <td>1~3</td>\n",
              "    </tr>\n",
              "    <tr>\n",
              "      <th>4</th>\n",
              "      <td>No Urgent Place</td>\n",
              "      <td>Friend(s)</td>\n",
              "      <td>Sunny</td>\n",
              "      <td>2PM</td>\n",
              "      <td>Coffee House</td>\n",
              "      <td>1d</td>\n",
              "      <td>Female</td>\n",
              "      <td>21</td>\n",
              "      <td>Unmarried partner</td>\n",
              "      <td>Some college - no degree</td>\n",
              "      <td>Unemployed</td>\n",
              "      <td>$37500 - $49999</td>\n",
              "      <td>never</td>\n",
              "      <td>never</td>\n",
              "      <td>1~3</td>\n",
              "      <td>4~8</td>\n",
              "      <td>1~3</td>\n",
              "    </tr>\n",
              "  </tbody>\n",
              "</table>\n",
              "</div>\n",
              "      <button class=\"colab-df-convert\" onclick=\"convertToInteractive('df-e288994c-6a9d-4d2c-86f3-31694c9c4beb')\"\n",
              "              title=\"Convert this dataframe to an interactive table.\"\n",
              "              style=\"display:none;\">\n",
              "        \n",
              "  <svg xmlns=\"http://www.w3.org/2000/svg\" height=\"24px\"viewBox=\"0 0 24 24\"\n",
              "       width=\"24px\">\n",
              "    <path d=\"M0 0h24v24H0V0z\" fill=\"none\"/>\n",
              "    <path d=\"M18.56 5.44l.94 2.06.94-2.06 2.06-.94-2.06-.94-.94-2.06-.94 2.06-2.06.94zm-11 1L8.5 8.5l.94-2.06 2.06-.94-2.06-.94L8.5 2.5l-.94 2.06-2.06.94zm10 10l.94 2.06.94-2.06 2.06-.94-2.06-.94-.94-2.06-.94 2.06-2.06.94z\"/><path d=\"M17.41 7.96l-1.37-1.37c-.4-.4-.92-.59-1.43-.59-.52 0-1.04.2-1.43.59L10.3 9.45l-7.72 7.72c-.78.78-.78 2.05 0 2.83L4 21.41c.39.39.9.59 1.41.59.51 0 1.02-.2 1.41-.59l7.78-7.78 2.81-2.81c.8-.78.8-2.07 0-2.86zM5.41 20L4 18.59l7.72-7.72 1.47 1.35L5.41 20z\"/>\n",
              "  </svg>\n",
              "      </button>\n",
              "      \n",
              "  <style>\n",
              "    .colab-df-container {\n",
              "      display:flex;\n",
              "      flex-wrap:wrap;\n",
              "      gap: 12px;\n",
              "    }\n",
              "\n",
              "    .colab-df-convert {\n",
              "      background-color: #E8F0FE;\n",
              "      border: none;\n",
              "      border-radius: 50%;\n",
              "      cursor: pointer;\n",
              "      display: none;\n",
              "      fill: #1967D2;\n",
              "      height: 32px;\n",
              "      padding: 0 0 0 0;\n",
              "      width: 32px;\n",
              "    }\n",
              "\n",
              "    .colab-df-convert:hover {\n",
              "      background-color: #E2EBFA;\n",
              "      box-shadow: 0px 1px 2px rgba(60, 64, 67, 0.3), 0px 1px 3px 1px rgba(60, 64, 67, 0.15);\n",
              "      fill: #174EA6;\n",
              "    }\n",
              "\n",
              "    [theme=dark] .colab-df-convert {\n",
              "      background-color: #3B4455;\n",
              "      fill: #D2E3FC;\n",
              "    }\n",
              "\n",
              "    [theme=dark] .colab-df-convert:hover {\n",
              "      background-color: #434B5C;\n",
              "      box-shadow: 0px 1px 3px 1px rgba(0, 0, 0, 0.15);\n",
              "      filter: drop-shadow(0px 1px 2px rgba(0, 0, 0, 0.3));\n",
              "      fill: #FFFFFF;\n",
              "    }\n",
              "  </style>\n",
              "\n",
              "      <script>\n",
              "        const buttonEl =\n",
              "          document.querySelector('#df-e288994c-6a9d-4d2c-86f3-31694c9c4beb button.colab-df-convert');\n",
              "        buttonEl.style.display =\n",
              "          google.colab.kernel.accessAllowed ? 'block' : 'none';\n",
              "\n",
              "        async function convertToInteractive(key) {\n",
              "          const element = document.querySelector('#df-e288994c-6a9d-4d2c-86f3-31694c9c4beb');\n",
              "          const dataTable =\n",
              "            await google.colab.kernel.invokeFunction('convertToInteractive',\n",
              "                                                     [key], {});\n",
              "          if (!dataTable) return;\n",
              "\n",
              "          const docLinkHtml = 'Like what you see? Visit the ' +\n",
              "            '<a target=\"_blank\" href=https://colab.research.google.com/notebooks/data_table.ipynb>data table notebook</a>'\n",
              "            + ' to learn more about interactive tables.';\n",
              "          element.innerHTML = '';\n",
              "          dataTable['output_type'] = 'display_data';\n",
              "          await google.colab.output.renderOutput(dataTable, element);\n",
              "          const docLink = document.createElement('div');\n",
              "          docLink.innerHTML = docLinkHtml;\n",
              "          element.appendChild(docLink);\n",
              "        }\n",
              "      </script>\n",
              "    </div>\n",
              "  </div>\n",
              "  "
            ]
          },
          "metadata": {},
          "execution_count": 49
        }
      ]
    },
    {
      "cell_type": "markdown",
      "source": [
        "1. One-hot Encoding (Binary, 1 / 0)\n",
        "    - Use when unique value < 5\n",
        "2. Ordinal Encoding (Grade, 1 < 2 < 3 < ... < n)\n",
        "    - The method itself can be applied to categorical data type (nominal, ordinal)\n",
        "3. Frequency Encoding (Based on its appearance)\n",
        "    - Use when unique value >= 5\n",
        "\n"
      ],
      "metadata": {
        "id": "mZvzaH6rzrXr"
      },
      "id": "mZvzaH6rzrXr"
    },
    {
      "cell_type": "markdown",
      "source": [
        "#### One Hot Encoding"
      ],
      "metadata": {
        "id": "kf8T3SG12J5a"
      },
      "id": "kf8T3SG12J5a"
    },
    {
      "cell_type": "code",
      "source": [
        "# 1. One-hot Encoding applied for nominal data scale\n",
        "\n",
        "df_categorical[\"destination\"].value_counts().reset_index()\n",
        "df_categorical[\"passanger\"].value_counts().reset_index()\n",
        "df_categorical[\"weather\"].value_counts().reset_index()\n",
        "df_categorical[\"coupon\"].value_counts().reset_index()\n",
        "df_categorical[\"maritalStatus\"].value_counts().reset_index()"
      ],
      "metadata": {
        "colab": {
          "base_uri": "https://localhost:8080/",
          "height": 206
        },
        "id": "9_LkPfGs1AM4",
        "outputId": "169ed89b-8010-4848-8bb6-dc7ace5e9c91"
      },
      "id": "9_LkPfGs1AM4",
      "execution_count": 50,
      "outputs": [
        {
          "output_type": "execute_result",
          "data": {
            "text/plain": [
              "               index  maritalStatus\n",
              "0    Married partner           5068\n",
              "1             Single           4716\n",
              "2  Unmarried partner           2185\n",
              "3           Divorced            511\n",
              "4            Widowed            130"
            ],
            "text/html": [
              "\n",
              "  <div id=\"df-cb2ab4d6-37fa-46d9-a040-0530e525d74d\">\n",
              "    <div class=\"colab-df-container\">\n",
              "      <div>\n",
              "<style scoped>\n",
              "    .dataframe tbody tr th:only-of-type {\n",
              "        vertical-align: middle;\n",
              "    }\n",
              "\n",
              "    .dataframe tbody tr th {\n",
              "        vertical-align: top;\n",
              "    }\n",
              "\n",
              "    .dataframe thead th {\n",
              "        text-align: right;\n",
              "    }\n",
              "</style>\n",
              "<table border=\"1\" class=\"dataframe\">\n",
              "  <thead>\n",
              "    <tr style=\"text-align: right;\">\n",
              "      <th></th>\n",
              "      <th>index</th>\n",
              "      <th>maritalStatus</th>\n",
              "    </tr>\n",
              "  </thead>\n",
              "  <tbody>\n",
              "    <tr>\n",
              "      <th>0</th>\n",
              "      <td>Married partner</td>\n",
              "      <td>5068</td>\n",
              "    </tr>\n",
              "    <tr>\n",
              "      <th>1</th>\n",
              "      <td>Single</td>\n",
              "      <td>4716</td>\n",
              "    </tr>\n",
              "    <tr>\n",
              "      <th>2</th>\n",
              "      <td>Unmarried partner</td>\n",
              "      <td>2185</td>\n",
              "    </tr>\n",
              "    <tr>\n",
              "      <th>3</th>\n",
              "      <td>Divorced</td>\n",
              "      <td>511</td>\n",
              "    </tr>\n",
              "    <tr>\n",
              "      <th>4</th>\n",
              "      <td>Widowed</td>\n",
              "      <td>130</td>\n",
              "    </tr>\n",
              "  </tbody>\n",
              "</table>\n",
              "</div>\n",
              "      <button class=\"colab-df-convert\" onclick=\"convertToInteractive('df-cb2ab4d6-37fa-46d9-a040-0530e525d74d')\"\n",
              "              title=\"Convert this dataframe to an interactive table.\"\n",
              "              style=\"display:none;\">\n",
              "        \n",
              "  <svg xmlns=\"http://www.w3.org/2000/svg\" height=\"24px\"viewBox=\"0 0 24 24\"\n",
              "       width=\"24px\">\n",
              "    <path d=\"M0 0h24v24H0V0z\" fill=\"none\"/>\n",
              "    <path d=\"M18.56 5.44l.94 2.06.94-2.06 2.06-.94-2.06-.94-.94-2.06-.94 2.06-2.06.94zm-11 1L8.5 8.5l.94-2.06 2.06-.94-2.06-.94L8.5 2.5l-.94 2.06-2.06.94zm10 10l.94 2.06.94-2.06 2.06-.94-2.06-.94-.94-2.06-.94 2.06-2.06.94z\"/><path d=\"M17.41 7.96l-1.37-1.37c-.4-.4-.92-.59-1.43-.59-.52 0-1.04.2-1.43.59L10.3 9.45l-7.72 7.72c-.78.78-.78 2.05 0 2.83L4 21.41c.39.39.9.59 1.41.59.51 0 1.02-.2 1.41-.59l7.78-7.78 2.81-2.81c.8-.78.8-2.07 0-2.86zM5.41 20L4 18.59l7.72-7.72 1.47 1.35L5.41 20z\"/>\n",
              "  </svg>\n",
              "      </button>\n",
              "      \n",
              "  <style>\n",
              "    .colab-df-container {\n",
              "      display:flex;\n",
              "      flex-wrap:wrap;\n",
              "      gap: 12px;\n",
              "    }\n",
              "\n",
              "    .colab-df-convert {\n",
              "      background-color: #E8F0FE;\n",
              "      border: none;\n",
              "      border-radius: 50%;\n",
              "      cursor: pointer;\n",
              "      display: none;\n",
              "      fill: #1967D2;\n",
              "      height: 32px;\n",
              "      padding: 0 0 0 0;\n",
              "      width: 32px;\n",
              "    }\n",
              "\n",
              "    .colab-df-convert:hover {\n",
              "      background-color: #E2EBFA;\n",
              "      box-shadow: 0px 1px 2px rgba(60, 64, 67, 0.3), 0px 1px 3px 1px rgba(60, 64, 67, 0.15);\n",
              "      fill: #174EA6;\n",
              "    }\n",
              "\n",
              "    [theme=dark] .colab-df-convert {\n",
              "      background-color: #3B4455;\n",
              "      fill: #D2E3FC;\n",
              "    }\n",
              "\n",
              "    [theme=dark] .colab-df-convert:hover {\n",
              "      background-color: #434B5C;\n",
              "      box-shadow: 0px 1px 3px 1px rgba(0, 0, 0, 0.15);\n",
              "      filter: drop-shadow(0px 1px 2px rgba(0, 0, 0, 0.3));\n",
              "      fill: #FFFFFF;\n",
              "    }\n",
              "  </style>\n",
              "\n",
              "      <script>\n",
              "        const buttonEl =\n",
              "          document.querySelector('#df-cb2ab4d6-37fa-46d9-a040-0530e525d74d button.colab-df-convert');\n",
              "        buttonEl.style.display =\n",
              "          google.colab.kernel.accessAllowed ? 'block' : 'none';\n",
              "\n",
              "        async function convertToInteractive(key) {\n",
              "          const element = document.querySelector('#df-cb2ab4d6-37fa-46d9-a040-0530e525d74d');\n",
              "          const dataTable =\n",
              "            await google.colab.kernel.invokeFunction('convertToInteractive',\n",
              "                                                     [key], {});\n",
              "          if (!dataTable) return;\n",
              "\n",
              "          const docLinkHtml = 'Like what you see? Visit the ' +\n",
              "            '<a target=\"_blank\" href=https://colab.research.google.com/notebooks/data_table.ipynb>data table notebook</a>'\n",
              "            + ' to learn more about interactive tables.';\n",
              "          element.innerHTML = '';\n",
              "          dataTable['output_type'] = 'display_data';\n",
              "          await google.colab.output.renderOutput(dataTable, element);\n",
              "          const docLink = document.createElement('div');\n",
              "          docLink.innerHTML = docLinkHtml;\n",
              "          element.appendChild(docLink);\n",
              "        }\n",
              "      </script>\n",
              "    </div>\n",
              "  </div>\n",
              "  "
            ]
          },
          "metadata": {},
          "execution_count": 50
        }
      ]
    },
    {
      "cell_type": "markdown",
      "source": [
        "#### Ordinal Encoding"
      ],
      "metadata": {
        "id": "NMEHKbMs2Ob0"
      },
      "id": "NMEHKbMs2Ob0"
    },
    {
      "cell_type": "code",
      "source": [
        "# 2. Ordinal Encoding applied for ordinal data scale \n",
        "\n",
        "print(df_categorical[\"time\"].value_counts().reset_index())\n",
        "print(df_categorical[\"expiration\"].value_counts().reset_index())\n",
        "print(df_categorical[\"gender\"].value_counts().reset_index())\n",
        "print(df_categorical[\"age\"].value_counts().reset_index())\n",
        "print(df_categorical[\"education\"].value_counts().reset_index())\n",
        "print(df_categorical[\"income\"].value_counts().reset_index())\n",
        "print(df_categorical[\"Bar\"].value_counts().reset_index())\n",
        "print(df_categorical[\"CoffeeHouse\"].value_counts().reset_index())\n",
        "print(df_categorical[\"CarryAway\"].value_counts().reset_index())\n",
        "print(df_categorical[\"RestaurantLessThan20\"].value_counts().reset_index())\n",
        "print(df_categorical[\"Restaurant20To50\"].value_counts().reset_index())"
      ],
      "metadata": {
        "colab": {
          "base_uri": "https://localhost:8080/"
        },
        "id": "fFlm7Bx3wZoY",
        "outputId": "2cd14a7e-30f0-4ece-b99c-3a5906eaec76"
      },
      "id": "fFlm7Bx3wZoY",
      "execution_count": 51,
      "outputs": [
        {
          "output_type": "stream",
          "name": "stdout",
          "text": [
            "  index  time\n",
            "0   6PM  3220\n",
            "1   7AM  3114\n",
            "2  10AM  2271\n",
            "3   2PM  2006\n",
            "4  10PM  1999\n",
            "  index  expiration\n",
            "0    1d        7031\n",
            "1    2h        5579\n",
            "    index  gender\n",
            "0  Female    6469\n",
            "1    Male    6141\n",
            "     index   age\n",
            "0       21  2642\n",
            "1       26  2548\n",
            "2       31  2019\n",
            "3   50plus  1781\n",
            "4       36  1317\n",
            "5       41  1089\n",
            "6       46   670\n",
            "7  below21   544\n",
            "                                    index  education\n",
            "0                Some college - no degree       4325\n",
            "1                        Bachelors degree       4323\n",
            "2  Graduate degree (Masters or Doctorate)       1827\n",
            "3                       Associates degree       1148\n",
            "4                    High School Graduate        899\n",
            "5                        Some High School         88\n",
            "              index  income\n",
            "0   $25000 - $37499    2006\n",
            "1   $12500 - $24999    1825\n",
            "2   $37500 - $49999    1795\n",
            "3   $100000 or More    1717\n",
            "4   $50000 - $62499    1655\n",
            "5  Less than $12500    1034\n",
            "6   $87500 - $99999     879\n",
            "7   $75000 - $87499     856\n",
            "8   $62500 - $74999     843\n",
            "   index   Bar\n",
            "0  never  5285\n",
            "1  less1  3438\n",
            "2    1~3  2468\n",
            "3    4~8  1071\n",
            "4    gt8   348\n",
            "   index  CoffeeHouse\n",
            "0  less1         3579\n",
            "1    1~3         3199\n",
            "2  never         2946\n",
            "3    4~8         1779\n",
            "4    gt8         1107\n",
            "   index  CarryAway\n",
            "0    1~3       4795\n",
            "1    4~8       4242\n",
            "2  less1       1849\n",
            "3    gt8       1572\n",
            "4  never        152\n",
            "   index  RestaurantLessThan20\n",
            "0    1~3                  5485\n",
            "1    4~8                  3553\n",
            "2  less1                  2071\n",
            "3    gt8                  1282\n",
            "4  never                   219\n",
            "   index  Restaurant20To50\n",
            "0  less1              6230\n",
            "1    1~3              3266\n",
            "2  never              2122\n",
            "3    4~8               728\n",
            "4    gt8               264\n"
          ]
        }
      ]
    },
    {
      "cell_type": "code",
      "source": [
        "# Use .map(class) to replace value by value using dictionary\n",
        "\n",
        "time_class = {\"7AM\": 0, \"10AM\": 1, \"2PM\": 2, \"6PM\": 3, \"10PM\": 4}\n",
        "exp_class = {\"2h\": 0, \"1d\": 1}\n",
        "gender_class = {\"Female\": 0, \"Male\": 1}\n",
        "age_class = {\"below21\": 0, \"21\": 1, \"26\": 2, \"31\": 3, \"36\": 4, \"41\": 5, \"46\": 6, \"50plus\": 7}\n",
        "edu_class = {\"Some High School\": 0, \"High School Graduate\": 1, \"Some college - no degree\": 2, \n",
        "             \"Associates degree\": 3, \"Bachelors degree\": 4, \"Graduate degree (Masters or Doctorate)\": 5}\n",
        "income_class = {\"Less than $12500\": 0, \"$12500 - $24999\": 1, \"$25000 - $37499\": 2, \"$37500 - $49999\": 3, \n",
        "                \"$50000 - $62499\": 4, \"$62500 - $74999\": 5, \"$75000 - $87499\": 6, \"$87500 - $99999\": 7, \n",
        "                \"$100000 or More\": 8}\n",
        "Bar_class = {\"never\": 0, \"less1\": 1, \"1~3\": 2, \"4~8\": 3, \"gt8\": 4}\n",
        "CoffeeHouse_class = {\"never\": 0, \"less1\": 1, \"1~3\": 2, \"4~8\": 3, \"gt8\": 4}\n",
        "CarryAway_class = {\"never\": 0, \"less1\": 1, \"1~3\": 2, \"4~8\": 3, \"gt8\": 4}\n",
        "RestaurantLessThan20_class = {\"never\": 0, \"less1\": 1, \"1~3\": 2, \"4~8\": 3, \"gt8\": 4}\n",
        "Restaurant20To50_class = {\"never\": 0, \"less1\": 1, \"1~3\": 2, \"4~8\": 3, \"gt8\": 4}\n",
        "\n",
        "df_categorical[\"time\"] = df_categorical[\"time\"].map(time_class)\n",
        "df_categorical[\"expiration\"] = df_categorical[\"expiration\"].map(exp_class)\n",
        "df_categorical[\"gender\"] = df_categorical[\"gender\"].map(gender_class)\n",
        "df_categorical[\"age\"] = df_categorical[\"age\"].map(age_class)\n",
        "df_categorical[\"education\"] = df_categorical[\"education\"].map(edu_class)\n",
        "df_categorical[\"income\"] = df_categorical[\"income\"].map(income_class)\n",
        "df_categorical[\"Bar\"] = df_categorical[\"Bar\"].map(Bar_class)\n",
        "df_categorical[\"CoffeeHouse\"] = df_categorical[\"CoffeeHouse\"].map(CoffeeHouse_class)\n",
        "df_categorical[\"CarryAway\"] = df_categorical[\"CarryAway\"].map(CarryAway_class)\n",
        "df_categorical[\"RestaurantLessThan20\"] = df_categorical[\"RestaurantLessThan20\"].map(RestaurantLessThan20_class)\n",
        "df_categorical[\"Restaurant20To50\"] = df_categorical[\"Restaurant20To50\"].map(Restaurant20To50_class)\n",
        "\n",
        "df_categorical.iloc[19]"
      ],
      "metadata": {
        "colab": {
          "base_uri": "https://localhost:8080/"
        },
        "id": "v-39857y1wJx",
        "outputId": "68c64050-4f96-4ea7-9747-f340c4de5239"
      },
      "id": "v-39857y1wJx",
      "execution_count": 52,
      "outputs": [
        {
          "output_type": "execute_result",
          "data": {
            "text/plain": [
              "destination                              Work\n",
              "passanger                               Alone\n",
              "weather                                 Sunny\n",
              "time                                        0\n",
              "coupon                  Carry out & Take away\n",
              "expiration                                  0\n",
              "gender                                      0\n",
              "age                                         1\n",
              "maritalStatus               Unmarried partner\n",
              "education                                   2\n",
              "occupation                         Unemployed\n",
              "income                                      3\n",
              "Bar                                         0\n",
              "CoffeeHouse                                 0\n",
              "CarryAway                                   2\n",
              "RestaurantLessThan20                        3\n",
              "Restaurant20To50                            2\n",
              "Name: 19, dtype: object"
            ]
          },
          "metadata": {},
          "execution_count": 52
        }
      ]
    },
    {
      "cell_type": "markdown",
      "source": [
        "#### Frequency Encoding"
      ],
      "metadata": {
        "id": "8qwDqQ2_2XrG"
      },
      "id": "8qwDqQ2_2XrG"
    },
    {
      "cell_type": "code",
      "source": [
        "# 3. Frequency Encoding (Based on its appearance)\n",
        "\n",
        "freq = df_categorical[\"occupation\"].value_counts().reset_index()\n",
        "freq.rename(columns={\"index\": \"occupation\", \"occupation\": \"freq_occupation\"}, inplace = True)\n",
        "freq['pct_occupation'] = round((freq['freq_occupation']/freq['freq_occupation'].sum())*100,2)\n",
        "freq"
      ],
      "metadata": {
        "colab": {
          "base_uri": "https://localhost:8080/",
          "height": 833
        },
        "id": "6swOypXz0hYk",
        "outputId": "0deb9e63-d063-4bc3-ac07-2e2c35630353"
      },
      "id": "6swOypXz0hYk",
      "execution_count": 53,
      "outputs": [
        {
          "output_type": "execute_result",
          "data": {
            "text/plain": [
              "                                   occupation  freq_occupation  pct_occupation\n",
              "0                                  Unemployed             1861           14.76\n",
              "1                                     Student             1575           12.49\n",
              "2                     Computer & Mathematical             1390           11.02\n",
              "3                             Sales & Related             1088            8.63\n",
              "4                  Education&Training&Library              939            7.45\n",
              "5                                  Management              821            6.51\n",
              "6             Office & Administrative Support              638            5.06\n",
              "7    Arts Design Entertainment Sports & Media              627            4.97\n",
              "8                        Business & Financial              543            4.31\n",
              "9                                     Retired              493            3.91\n",
              "10         Food Preparation & Serving Related              298            2.36\n",
              "11       Healthcare Practitioners & Technical              244            1.93\n",
              "12                         Healthcare Support              242            1.92\n",
              "13                Community & Social Services              239            1.90\n",
              "14                                      Legal              219            1.74\n",
              "15           Transportation & Material Moving              218            1.73\n",
              "16                 Architecture & Engineering              175            1.39\n",
              "17                    Personal Care & Service              175            1.39\n",
              "18                         Protective Service              174            1.38\n",
              "19               Life Physical Social Science              169            1.34\n",
              "20                  Construction & Extraction              154            1.22\n",
              "21          Installation Maintenance & Repair              133            1.05\n",
              "22                     Production Occupations              108            0.86\n",
              "23  Building & Grounds Cleaning & Maintenance               44            0.35\n",
              "24                 Farming Fishing & Forestry               43            0.34"
            ],
            "text/html": [
              "\n",
              "  <div id=\"df-385fb801-0027-42d4-a8a4-e9d0d86c35b6\">\n",
              "    <div class=\"colab-df-container\">\n",
              "      <div>\n",
              "<style scoped>\n",
              "    .dataframe tbody tr th:only-of-type {\n",
              "        vertical-align: middle;\n",
              "    }\n",
              "\n",
              "    .dataframe tbody tr th {\n",
              "        vertical-align: top;\n",
              "    }\n",
              "\n",
              "    .dataframe thead th {\n",
              "        text-align: right;\n",
              "    }\n",
              "</style>\n",
              "<table border=\"1\" class=\"dataframe\">\n",
              "  <thead>\n",
              "    <tr style=\"text-align: right;\">\n",
              "      <th></th>\n",
              "      <th>occupation</th>\n",
              "      <th>freq_occupation</th>\n",
              "      <th>pct_occupation</th>\n",
              "    </tr>\n",
              "  </thead>\n",
              "  <tbody>\n",
              "    <tr>\n",
              "      <th>0</th>\n",
              "      <td>Unemployed</td>\n",
              "      <td>1861</td>\n",
              "      <td>14.76</td>\n",
              "    </tr>\n",
              "    <tr>\n",
              "      <th>1</th>\n",
              "      <td>Student</td>\n",
              "      <td>1575</td>\n",
              "      <td>12.49</td>\n",
              "    </tr>\n",
              "    <tr>\n",
              "      <th>2</th>\n",
              "      <td>Computer &amp; Mathematical</td>\n",
              "      <td>1390</td>\n",
              "      <td>11.02</td>\n",
              "    </tr>\n",
              "    <tr>\n",
              "      <th>3</th>\n",
              "      <td>Sales &amp; Related</td>\n",
              "      <td>1088</td>\n",
              "      <td>8.63</td>\n",
              "    </tr>\n",
              "    <tr>\n",
              "      <th>4</th>\n",
              "      <td>Education&amp;Training&amp;Library</td>\n",
              "      <td>939</td>\n",
              "      <td>7.45</td>\n",
              "    </tr>\n",
              "    <tr>\n",
              "      <th>5</th>\n",
              "      <td>Management</td>\n",
              "      <td>821</td>\n",
              "      <td>6.51</td>\n",
              "    </tr>\n",
              "    <tr>\n",
              "      <th>6</th>\n",
              "      <td>Office &amp; Administrative Support</td>\n",
              "      <td>638</td>\n",
              "      <td>5.06</td>\n",
              "    </tr>\n",
              "    <tr>\n",
              "      <th>7</th>\n",
              "      <td>Arts Design Entertainment Sports &amp; Media</td>\n",
              "      <td>627</td>\n",
              "      <td>4.97</td>\n",
              "    </tr>\n",
              "    <tr>\n",
              "      <th>8</th>\n",
              "      <td>Business &amp; Financial</td>\n",
              "      <td>543</td>\n",
              "      <td>4.31</td>\n",
              "    </tr>\n",
              "    <tr>\n",
              "      <th>9</th>\n",
              "      <td>Retired</td>\n",
              "      <td>493</td>\n",
              "      <td>3.91</td>\n",
              "    </tr>\n",
              "    <tr>\n",
              "      <th>10</th>\n",
              "      <td>Food Preparation &amp; Serving Related</td>\n",
              "      <td>298</td>\n",
              "      <td>2.36</td>\n",
              "    </tr>\n",
              "    <tr>\n",
              "      <th>11</th>\n",
              "      <td>Healthcare Practitioners &amp; Technical</td>\n",
              "      <td>244</td>\n",
              "      <td>1.93</td>\n",
              "    </tr>\n",
              "    <tr>\n",
              "      <th>12</th>\n",
              "      <td>Healthcare Support</td>\n",
              "      <td>242</td>\n",
              "      <td>1.92</td>\n",
              "    </tr>\n",
              "    <tr>\n",
              "      <th>13</th>\n",
              "      <td>Community &amp; Social Services</td>\n",
              "      <td>239</td>\n",
              "      <td>1.90</td>\n",
              "    </tr>\n",
              "    <tr>\n",
              "      <th>14</th>\n",
              "      <td>Legal</td>\n",
              "      <td>219</td>\n",
              "      <td>1.74</td>\n",
              "    </tr>\n",
              "    <tr>\n",
              "      <th>15</th>\n",
              "      <td>Transportation &amp; Material Moving</td>\n",
              "      <td>218</td>\n",
              "      <td>1.73</td>\n",
              "    </tr>\n",
              "    <tr>\n",
              "      <th>16</th>\n",
              "      <td>Architecture &amp; Engineering</td>\n",
              "      <td>175</td>\n",
              "      <td>1.39</td>\n",
              "    </tr>\n",
              "    <tr>\n",
              "      <th>17</th>\n",
              "      <td>Personal Care &amp; Service</td>\n",
              "      <td>175</td>\n",
              "      <td>1.39</td>\n",
              "    </tr>\n",
              "    <tr>\n",
              "      <th>18</th>\n",
              "      <td>Protective Service</td>\n",
              "      <td>174</td>\n",
              "      <td>1.38</td>\n",
              "    </tr>\n",
              "    <tr>\n",
              "      <th>19</th>\n",
              "      <td>Life Physical Social Science</td>\n",
              "      <td>169</td>\n",
              "      <td>1.34</td>\n",
              "    </tr>\n",
              "    <tr>\n",
              "      <th>20</th>\n",
              "      <td>Construction &amp; Extraction</td>\n",
              "      <td>154</td>\n",
              "      <td>1.22</td>\n",
              "    </tr>\n",
              "    <tr>\n",
              "      <th>21</th>\n",
              "      <td>Installation Maintenance &amp; Repair</td>\n",
              "      <td>133</td>\n",
              "      <td>1.05</td>\n",
              "    </tr>\n",
              "    <tr>\n",
              "      <th>22</th>\n",
              "      <td>Production Occupations</td>\n",
              "      <td>108</td>\n",
              "      <td>0.86</td>\n",
              "    </tr>\n",
              "    <tr>\n",
              "      <th>23</th>\n",
              "      <td>Building &amp; Grounds Cleaning &amp; Maintenance</td>\n",
              "      <td>44</td>\n",
              "      <td>0.35</td>\n",
              "    </tr>\n",
              "    <tr>\n",
              "      <th>24</th>\n",
              "      <td>Farming Fishing &amp; Forestry</td>\n",
              "      <td>43</td>\n",
              "      <td>0.34</td>\n",
              "    </tr>\n",
              "  </tbody>\n",
              "</table>\n",
              "</div>\n",
              "      <button class=\"colab-df-convert\" onclick=\"convertToInteractive('df-385fb801-0027-42d4-a8a4-e9d0d86c35b6')\"\n",
              "              title=\"Convert this dataframe to an interactive table.\"\n",
              "              style=\"display:none;\">\n",
              "        \n",
              "  <svg xmlns=\"http://www.w3.org/2000/svg\" height=\"24px\"viewBox=\"0 0 24 24\"\n",
              "       width=\"24px\">\n",
              "    <path d=\"M0 0h24v24H0V0z\" fill=\"none\"/>\n",
              "    <path d=\"M18.56 5.44l.94 2.06.94-2.06 2.06-.94-2.06-.94-.94-2.06-.94 2.06-2.06.94zm-11 1L8.5 8.5l.94-2.06 2.06-.94-2.06-.94L8.5 2.5l-.94 2.06-2.06.94zm10 10l.94 2.06.94-2.06 2.06-.94-2.06-.94-.94-2.06-.94 2.06-2.06.94z\"/><path d=\"M17.41 7.96l-1.37-1.37c-.4-.4-.92-.59-1.43-.59-.52 0-1.04.2-1.43.59L10.3 9.45l-7.72 7.72c-.78.78-.78 2.05 0 2.83L4 21.41c.39.39.9.59 1.41.59.51 0 1.02-.2 1.41-.59l7.78-7.78 2.81-2.81c.8-.78.8-2.07 0-2.86zM5.41 20L4 18.59l7.72-7.72 1.47 1.35L5.41 20z\"/>\n",
              "  </svg>\n",
              "      </button>\n",
              "      \n",
              "  <style>\n",
              "    .colab-df-container {\n",
              "      display:flex;\n",
              "      flex-wrap:wrap;\n",
              "      gap: 12px;\n",
              "    }\n",
              "\n",
              "    .colab-df-convert {\n",
              "      background-color: #E8F0FE;\n",
              "      border: none;\n",
              "      border-radius: 50%;\n",
              "      cursor: pointer;\n",
              "      display: none;\n",
              "      fill: #1967D2;\n",
              "      height: 32px;\n",
              "      padding: 0 0 0 0;\n",
              "      width: 32px;\n",
              "    }\n",
              "\n",
              "    .colab-df-convert:hover {\n",
              "      background-color: #E2EBFA;\n",
              "      box-shadow: 0px 1px 2px rgba(60, 64, 67, 0.3), 0px 1px 3px 1px rgba(60, 64, 67, 0.15);\n",
              "      fill: #174EA6;\n",
              "    }\n",
              "\n",
              "    [theme=dark] .colab-df-convert {\n",
              "      background-color: #3B4455;\n",
              "      fill: #D2E3FC;\n",
              "    }\n",
              "\n",
              "    [theme=dark] .colab-df-convert:hover {\n",
              "      background-color: #434B5C;\n",
              "      box-shadow: 0px 1px 3px 1px rgba(0, 0, 0, 0.15);\n",
              "      filter: drop-shadow(0px 1px 2px rgba(0, 0, 0, 0.3));\n",
              "      fill: #FFFFFF;\n",
              "    }\n",
              "  </style>\n",
              "\n",
              "      <script>\n",
              "        const buttonEl =\n",
              "          document.querySelector('#df-385fb801-0027-42d4-a8a4-e9d0d86c35b6 button.colab-df-convert');\n",
              "        buttonEl.style.display =\n",
              "          google.colab.kernel.accessAllowed ? 'block' : 'none';\n",
              "\n",
              "        async function convertToInteractive(key) {\n",
              "          const element = document.querySelector('#df-385fb801-0027-42d4-a8a4-e9d0d86c35b6');\n",
              "          const dataTable =\n",
              "            await google.colab.kernel.invokeFunction('convertToInteractive',\n",
              "                                                     [key], {});\n",
              "          if (!dataTable) return;\n",
              "\n",
              "          const docLinkHtml = 'Like what you see? Visit the ' +\n",
              "            '<a target=\"_blank\" href=https://colab.research.google.com/notebooks/data_table.ipynb>data table notebook</a>'\n",
              "            + ' to learn more about interactive tables.';\n",
              "          element.innerHTML = '';\n",
              "          dataTable['output_type'] = 'display_data';\n",
              "          await google.colab.output.renderOutput(dataTable, element);\n",
              "          const docLink = document.createElement('div');\n",
              "          docLink.innerHTML = docLinkHtml;\n",
              "          element.appendChild(docLink);\n",
              "        }\n",
              "      </script>\n",
              "    </div>\n",
              "  </div>\n",
              "  "
            ]
          },
          "metadata": {},
          "execution_count": 53
        }
      ]
    },
    {
      "cell_type": "code",
      "source": [
        "df_categorical = df_categorical.merge(freq[['occupation','pct_occupation']], on = 'occupation', how = 'inner')\n",
        "df_categorical = df_categorical.drop([\"occupation\"],axis = 1)\n",
        "\n",
        "df_categorical.iloc[19]"
      ],
      "metadata": {
        "colab": {
          "base_uri": "https://localhost:8080/"
        },
        "id": "w1QePhOv0mBx",
        "outputId": "d0a7eb28-489f-4e05-f701-35160628f911"
      },
      "id": "w1QePhOv0mBx",
      "execution_count": 54,
      "outputs": [
        {
          "output_type": "execute_result",
          "data": {
            "text/plain": [
              "destination                              Work\n",
              "passanger                               Alone\n",
              "weather                                 Sunny\n",
              "time                                        0\n",
              "coupon                  Carry out & Take away\n",
              "expiration                                  0\n",
              "gender                                      0\n",
              "age                                         1\n",
              "maritalStatus               Unmarried partner\n",
              "education                                   2\n",
              "income                                      3\n",
              "Bar                                         0\n",
              "CoffeeHouse                                 0\n",
              "CarryAway                                   2\n",
              "RestaurantLessThan20                        3\n",
              "Restaurant20To50                            2\n",
              "pct_occupation                          14.76\n",
              "Name: 19, dtype: object"
            ]
          },
          "metadata": {},
          "execution_count": 54
        }
      ]
    },
    {
      "cell_type": "code",
      "source": [
        "# Use pd.get_dummies(data frame) to apply one-hot encoding\n",
        "df_categorical_encoded = pd.get_dummies(df_categorical,columns = [\"destination\",\"passanger\",\"weather\",\"coupon\",\"maritalStatus\"])\n",
        "df_categorical_encoded.iloc[19]"
      ],
      "metadata": {
        "colab": {
          "base_uri": "https://localhost:8080/"
        },
        "id": "7Sm556P-1-uL",
        "outputId": "a235d33a-0bfe-4668-f69a-3d13729c6c63"
      },
      "id": "7Sm556P-1-uL",
      "execution_count": 55,
      "outputs": [
        {
          "output_type": "execute_result",
          "data": {
            "text/plain": [
              "time                                0.00\n",
              "expiration                          0.00\n",
              "gender                              0.00\n",
              "age                                 1.00\n",
              "education                           2.00\n",
              "income                              3.00\n",
              "Bar                                 0.00\n",
              "CoffeeHouse                         0.00\n",
              "CarryAway                           2.00\n",
              "RestaurantLessThan20                3.00\n",
              "Restaurant20To50                    2.00\n",
              "pct_occupation                     14.76\n",
              "destination_Home                    0.00\n",
              "destination_No Urgent Place         0.00\n",
              "destination_Work                    1.00\n",
              "passanger_Alone                     1.00\n",
              "passanger_Friend(s)                 0.00\n",
              "passanger_Kid(s)                    0.00\n",
              "passanger_Partner                   0.00\n",
              "weather_Rainy                       0.00\n",
              "weather_Snowy                       0.00\n",
              "weather_Sunny                       1.00\n",
              "coupon_Bar                          0.00\n",
              "coupon_Carry out & Take away        1.00\n",
              "coupon_Coffee House                 0.00\n",
              "coupon_Restaurant(20-50)            0.00\n",
              "coupon_Restaurant(<20)              0.00\n",
              "maritalStatus_Divorced              0.00\n",
              "maritalStatus_Married partner       0.00\n",
              "maritalStatus_Single                0.00\n",
              "maritalStatus_Unmarried partner     1.00\n",
              "maritalStatus_Widowed               0.00\n",
              "Name: 19, dtype: float64"
            ]
          },
          "metadata": {},
          "execution_count": 55
        }
      ]
    },
    {
      "cell_type": "code",
      "source": [
        "print(f\"Data Frame Categorical Encoded: {df_categorical_encoded.shape}\")\n",
        "print(f\"Data Frame Numerical: {df_numerical.shape}\")"
      ],
      "metadata": {
        "colab": {
          "base_uri": "https://localhost:8080/"
        },
        "id": "Sp2IEmcoEu_D",
        "outputId": "b8e6e441-2aad-42ec-ea24-62bfdb818870"
      },
      "id": "Sp2IEmcoEu_D",
      "execution_count": 56,
      "outputs": [
        {
          "output_type": "stream",
          "name": "stdout",
          "text": [
            "Data Frame Categorical Encoded: (12610, 32)\n",
            "Data Frame Numerical: (12610, 7)\n"
          ]
        }
      ]
    },
    {
      "cell_type": "code",
      "source": [
        "# Finalize (combine both numerical and categorical data frame using concat)\n",
        "# Concat axis 1 --> Column\n",
        "# Concat axis 0 --> Row\n",
        "df = pd.concat([df_categorical_encoded,df_numerical],axis=1)\n",
        "df = df.dropna()\n",
        "df.iloc[19]"
      ],
      "metadata": {
        "colab": {
          "base_uri": "https://localhost:8080/"
        },
        "id": "Md3wuNoelD0e",
        "outputId": "66d909db-a209-4e66-88a0-5e8ef0fc67f1"
      },
      "id": "Md3wuNoelD0e",
      "execution_count": 57,
      "outputs": [
        {
          "output_type": "execute_result",
          "data": {
            "text/plain": [
              "time                                0.00\n",
              "expiration                          0.00\n",
              "gender                              0.00\n",
              "age                                 1.00\n",
              "education                           2.00\n",
              "income                              3.00\n",
              "Bar                                 0.00\n",
              "CoffeeHouse                         0.00\n",
              "CarryAway                           2.00\n",
              "RestaurantLessThan20                3.00\n",
              "Restaurant20To50                    2.00\n",
              "pct_occupation                     14.76\n",
              "destination_Home                    0.00\n",
              "destination_No Urgent Place         0.00\n",
              "destination_Work                    1.00\n",
              "passanger_Alone                     1.00\n",
              "passanger_Friend(s)                 0.00\n",
              "passanger_Kid(s)                    0.00\n",
              "passanger_Partner                   0.00\n",
              "weather_Rainy                       0.00\n",
              "weather_Snowy                       0.00\n",
              "weather_Sunny                       1.00\n",
              "coupon_Bar                          0.00\n",
              "coupon_Carry out & Take away        1.00\n",
              "coupon_Coffee House                 0.00\n",
              "coupon_Restaurant(20-50)            0.00\n",
              "coupon_Restaurant(<20)              0.00\n",
              "maritalStatus_Divorced              0.00\n",
              "maritalStatus_Married partner       0.00\n",
              "maritalStatus_Single                0.00\n",
              "maritalStatus_Unmarried partner     1.00\n",
              "maritalStatus_Widowed               0.00\n",
              "temperature                        80.00\n",
              "has_children                        1.00\n",
              "toCoupon_GEQ5min                    1.00\n",
              "toCoupon_GEQ15min                   0.00\n",
              "toCoupon_GEQ25min                   0.00\n",
              "direction_same                      1.00\n",
              "Y                                   1.00\n",
              "Name: 19, dtype: float64"
            ]
          },
          "metadata": {},
          "execution_count": 57
        }
      ]
    },
    {
      "cell_type": "code",
      "source": [
        "print(f\"Data Frame: {df.shape}\")"
      ],
      "metadata": {
        "colab": {
          "base_uri": "https://localhost:8080/"
        },
        "id": "5HcXqQs2E8ia",
        "outputId": "fcebc2e7-c448-4836-98df-cc20390e7cac"
      },
      "id": "5HcXqQs2E8ia",
      "execution_count": 58,
      "outputs": [
        {
          "output_type": "stream",
          "name": "stdout",
          "text": [
            "Data Frame: (12536, 39)\n"
          ]
        }
      ]
    },
    {
      "cell_type": "markdown",
      "source": [
        "## Imbalance Data Handling"
      ],
      "metadata": {
        "id": "SOrT9q5I58Ul"
      },
      "id": "SOrT9q5I58Ul"
    },
    {
      "cell_type": "code",
      "source": [
        "df['Y'].value_counts()"
      ],
      "metadata": {
        "colab": {
          "base_uri": "https://localhost:8080/"
        },
        "id": "n1F6wqQL0DVD",
        "outputId": "cadb1399-5d77-41a2-abf9-b4fc5a98030d"
      },
      "id": "n1F6wqQL0DVD",
      "execution_count": 59,
      "outputs": [
        {
          "output_type": "execute_result",
          "data": {
            "text/plain": [
              "1.0    7126\n",
              "0.0    5410\n",
              "Name: Y, dtype: int64"
            ]
          },
          "metadata": {},
          "execution_count": 59
        }
      ]
    },
    {
      "cell_type": "code",
      "source": [
        "sm = over_sampling.SMOTE(random_state=42)\n",
        "\n",
        "X = df.drop(['Y'],axis = 1)\n",
        "Y = df['Y']\n",
        "X_sm, y_sm = sm.fit_resample(X, Y)\n",
        "\n",
        "print(f'''Shape of X before SMOTE: {X.shape}\n",
        "Shape of X after SMOTE: {X_sm.shape}''')\n",
        "\n",
        "print('\\nBalance of positive and negative classes (%):')\n",
        "y_sm.value_counts(normalize=True) * 100"
      ],
      "metadata": {
        "colab": {
          "base_uri": "https://localhost:8080/"
        },
        "id": "xmAqD1KL6CUQ",
        "outputId": "52d80877-e733-41ad-8304-dee78a378d48"
      },
      "id": "xmAqD1KL6CUQ",
      "execution_count": 60,
      "outputs": [
        {
          "output_type": "stream",
          "name": "stdout",
          "text": [
            "Shape of X before SMOTE: (12536, 38)\n",
            "Shape of X after SMOTE: (14252, 38)\n",
            "\n",
            "Balance of positive and negative classes (%):\n"
          ]
        },
        {
          "output_type": "execute_result",
          "data": {
            "text/plain": [
              "1.0    50.0\n",
              "0.0    50.0\n",
              "Name: Y, dtype: float64"
            ]
          },
          "metadata": {},
          "execution_count": 60
        }
      ]
    },
    {
      "cell_type": "code",
      "source": [
        "y_sm.value_counts()"
      ],
      "metadata": {
        "colab": {
          "base_uri": "https://localhost:8080/"
        },
        "id": "3NKLj3xfzv49",
        "outputId": "2a7bbab2-cb6e-4707-f51f-f2e29007c1c2"
      },
      "id": "3NKLj3xfzv49",
      "execution_count": 61,
      "outputs": [
        {
          "output_type": "execute_result",
          "data": {
            "text/plain": [
              "1.0    7126\n",
              "0.0    7126\n",
              "Name: Y, dtype: int64"
            ]
          },
          "metadata": {},
          "execution_count": 61
        }
      ]
    },
    {
      "cell_type": "markdown",
      "id": "46735eff",
      "metadata": {
        "id": "46735eff"
      },
      "source": [
        "## Modeling "
      ]
    },
    {
      "cell_type": "markdown",
      "source": [
        "### Split Dataset"
      ],
      "metadata": {
        "id": "fGpBXxaX0tJH"
      },
      "id": "fGpBXxaX0tJH"
    },
    {
      "cell_type": "code",
      "source": [
        "X_train, X_test, y_train, y_test = train_test_split(X_sm, y_sm, test_size=0.25, random_state=42)"
      ],
      "metadata": {
        "id": "WRWeV8Gb0skp"
      },
      "id": "WRWeV8Gb0skp",
      "execution_count": 62,
      "outputs": []
    },
    {
      "cell_type": "markdown",
      "source": [
        "### Random Forest Modeling"
      ],
      "metadata": {
        "id": "da367T1N0vcA"
      },
      "id": "da367T1N0vcA"
    },
    {
      "cell_type": "code",
      "execution_count": 63,
      "id": "4304e5de",
      "metadata": {
        "id": "4304e5de"
      },
      "outputs": [],
      "source": [
        "model = RandomForestClassifier(random_state=42)\n",
        "model.fit(X_train, y_train)\n",
        "preds = model.predict(X_test)"
      ]
    },
    {
      "cell_type": "markdown",
      "id": "c4abba9f",
      "metadata": {
        "id": "c4abba9f"
      },
      "source": [
        "## Evaluation"
      ]
    },
    {
      "cell_type": "code",
      "execution_count": 65,
      "id": "94610d59",
      "metadata": {
        "id": "94610d59",
        "colab": {
          "base_uri": "https://localhost:8080/"
        },
        "outputId": "05af6aed-1c2d-4dc5-ae3e-cfcdb8635302"
      },
      "outputs": [
        {
          "output_type": "stream",
          "name": "stdout",
          "text": [
            "Accuracy 0.6595565534661801\n"
          ]
        }
      ],
      "source": [
        "print('Accuracy',accuracy_score(y_test, preds))"
      ]
    }
  ],
  "metadata": {
    "kernelspec": {
      "display_name": "Python 3",
      "language": "python",
      "name": "python3"
    },
    "language_info": {
      "codemirror_mode": {
        "name": "ipython",
        "version": 3
      },
      "file_extension": ".py",
      "mimetype": "text/x-python",
      "name": "python",
      "nbconvert_exporter": "python",
      "pygments_lexer": "ipython3",
      "version": "3.6.13"
    },
    "toc": {
      "base_numbering": 1,
      "nav_menu": {},
      "number_sections": true,
      "sideBar": true,
      "skip_h1_title": false,
      "title_cell": "Table of Contents",
      "title_sidebar": "Contents",
      "toc_cell": false,
      "toc_position": {},
      "toc_section_display": true,
      "toc_window_display": true
    },
    "varInspector": {
      "cols": {
        "lenName": 16,
        "lenType": 16,
        "lenVar": 40
      },
      "kernels_config": {
        "python": {
          "delete_cmd_postfix": "",
          "delete_cmd_prefix": "del ",
          "library": "var_list.py",
          "varRefreshCmd": "print(var_dic_list())"
        },
        "r": {
          "delete_cmd_postfix": ") ",
          "delete_cmd_prefix": "rm(",
          "library": "var_list.r",
          "varRefreshCmd": "cat(var_dic_list()) "
        }
      },
      "types_to_exclude": [
        "module",
        "function",
        "builtin_function_or_method",
        "instance",
        "_Feature"
      ],
      "window_display": false
    },
    "colab": {
      "name": "Portfolio_WindaApriliaKusumaPutri.ipynb",
      "provenance": [],
      "collapsed_sections": []
    }
  },
  "nbformat": 4,
  "nbformat_minor": 5
}